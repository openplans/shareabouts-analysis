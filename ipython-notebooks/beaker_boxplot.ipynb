{
    "beaker": "2",
    "evaluators": [
        {
            "name": "Html",
            "plugin": "Html",
            "shellID": null
        },
        {
            "name": "Latex",
            "plugin": "Latex",
            "shellID": null
        },
        {
            "name": "IPython",
            "plugin": "IPython",
            "shellID": "F8E380C309A341A5BB2B1EDC538E318B",
            "imports": "",
            "supplementalClassPath": ""
        },
        {
            "name": "JavaScript",
            "plugin": "JavaScript",
            "shellID": null,
            "jsSetting2": "",
            "jsSetting1": ""
        },
        {
            "name": "R",
            "plugin": "R",
            "shellID": ""
        }
    ],
    "cells": [
        {
            "id": "section001",
            "type": "section",
            "level": 1,
            "title": "Lets get Beaker up and running<br><br>",
            "collapsed": false
        },
        {
            "id": "code001",
            "type": "code",
            "evaluator": "IPython",
            "input": {
                "body": "import matplotlib.pyplot as plt\nimport os\nimport pandas as pd\nimport numpy as np\n\ndata = os.path.join(\"C:\\Users\\Aaron\\Documents\\IPython Notebooks\\exports-backup\\\\all_datasets_with_lifetime.xlsx\")\ntitanic = pd.read_excel(data, \"all_datasets\")\n\nbp = titanic.boxplot(column='places', by='ownerID', grid=True)\nfor i in [1,2,3,4]:\n    y = titanic.places[titanic.ownerid==i].dropna()\n    # Add some random \"jitter\" to the x-axis\n    x = np.random.normal(i, 0.04, size=len(y))\n    plt.plot(x, y, 'r.', alpha=0.2)"
            },
            "output": {
                "selectedType": "BeakerDisplay",
                "result": {
                    "type": "BeakerDisplay",
                    "innertype": "Html",
                    "object": "<div class=\"out_prompt_overlay prompt\" title=\"click to expand output; double click to hide output\" style=\"display: none;\"></div><div class=\"output\" style=\"display: none;\"></div><div class=\"btn output_collapsed\" title=\"click to expand output\" style=\"display: none;\">. . .</div><div class=\"output_subarea output_png\"><img src=\"data:image/png;base64,iVBORw0KGgoAAAANSUhEUgAAAYMAAAEaCAYAAADzDTuZAAAABHNCSVQICAgIfAhkiAAAAAlwSFlz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\nSZIkSZIkSZIkSZIkSZKktvh/2gJCMqZmNlQAAAAASUVORK5CYII=\n\"></div>"
                },
                "outputArrived": true,
                "elapsedTime": 1219
            }
        },
        {
            "id": "code2uVtKX",
            "type": "code",
            "evaluator": "R",
            "input": {
                "body": "#R - will turn dark blue when plugin loads successfully"
            },
            "output": {
                "selectedType": "Hidden"
            }
        },
        {
            "id": "code301W1U",
            "type": "code",
            "evaluator": "JavaScript",
            "input": {
                "body": "//JavaScript - will turn pink when plugin loads successfully"
            },
            "output": {
                "selectedType": "Hidden"
            }
        },
        {
            "id": "text97Oipt",
            "type": "text",
            "body": "<p style=\"margin-bottom: 15px; color: rgb(0, 0, 0); font-family: Helvetica, arial, freesans, clean, sans-serif; font-size: 15px; line-height: 20px;\">Beaker also supports <b>Julia</b>, <b>Groovy</b>, <b>Ruby</b>, and <b>Node</b>. To add another language to this notebook, select <b>Notebook</b> ▶ <b>Plugin manager</b> from the menu on top of the screen.</p><p style=\"margin-top: 15px; color: rgb(0, 0, 0); font-family: Helvetica, arial, freesans, clean, sans-serif; font-size: 15px; line-height: 20px; margin-bottom: 0px !important;\">For general help, see the tutorial notebook under <b>Help</b> ▶ <b>Tutorial notebook</b></p>"
        }
    ]
}
