{
 "metadata": {
  "name": "",
  "signature": "sha256:3c26f3443bc037a486f807e916fa1711d75f8f5f8f8e71b870ed6c9588ed4cad"
 },
 "nbformat": 3,
 "nbformat_minor": 0,
 "worksheets": [
  {
   "cells": [
    {
     "cell_type": "code",
     "collapsed": false,
     "input": [
      "\n",
      "import csv\n",
      "import os\n",
      "import time\n",
      "from time import sleep\n",
      "import requests\n",
      "from requests.auth import HTTPBasicAuth\n",
      "\n",
      "MY_USERNAME = \"afraint\"\n",
      "MY_PASSWORD = \"Tomorrownow!\"\n",
      "\n",
      "\n",
      "\n",
      "def get_data(URL, retries=5):\n",
      "    '''   go to the URL and return the JSON using my credentials  '''\n",
      "    try:\n",
      "        r = requests.get(URL, auth=HTTPBasicAuth(MY_USERNAME, MY_PASSWORD))\n",
      "    except Exception as e:\n",
      "        print 'Something went wrong: %s - %s\\r' % (type(e).__name__, e),\n",
      "    else:\n",
      "        if r.status_code == 200:\n",
      "            return r.json()\n",
      "        else:\n",
      "            print 'Got an unexpected %s response: %s\\r' % (r.status_code, r.text),\n",
      "\n",
      "    if retries > 0:\n",
      "        sleep(1)\n",
      "        return get_data(URL, retries - 1)\n",
      "    else:\n",
      "        print '\\nNo more retries for URL \"%s\".' % (URL,)\n",
      "        sys.exit(1)\n",
      "\n",
      "\n",
      "\n",
      "def pull_dataset_data(JSON, data_node):\n",
      "    ''' handles pagination. dump the data into a list, and repeat if there's another page   '''\n",
      "    results = []\n",
      "    while JSON[\"metadata\"][\"next\"] is not None:     # if there's another page\n",
      "        for item in JSON[data_node]:\n",
      "            results.append(item)\n",
      "        JSON = get_data(JSON[\"metadata\"][\"next\"])\n",
      "    for item in JSON[data_node]:                    # dump the data one more time for the final page\n",
      "        results.append(item)\n",
      "    return results\n",
      "\n",
      "def get_dataset_history(PLACES_URL):\n",
      "    ''' identifies the first and last date that places were added to the dataset   '''\n",
      "    print PLACES_URL\n",
      "    JSON = get_data(PLACES_URL)\n",
      "    if JSON[\"metadata\"][\"length\"] > 200000:\n",
      "        return None, None\n",
      "    else:\n",
      "        all_places = pull_dataset_data(JSON, \"features\")\n",
      "        all_dates = []\n",
      "        for place in all_places:\n",
      "            created = str(place[\"properties\"][\"created_datetime\"].split(\"T\")[0])\n",
      "            if created not in all_dates:\n",
      "                all_dates.append(created)\n",
      "        if len(all_dates) > 0:\n",
      "            first_place = sorted(all_dates)[0]\n",
      "            last_place = sorted(all_dates)[-1:][0]\n",
      "            return first_place, last_place\n",
      "        else:\n",
      "            return None, None\n",
      "\n",
      "\n",
      "def pull_relevant_data(JSON):\n",
      "    '''  this is where the data of value is pulled out of a dictionary and tossed into a list  '''\n",
      "    results = []\n",
      "    for dataset in JSON:\n",
      "        # get the number and type of non-point user interaction\n",
      "        comments = 0\n",
      "        type_of_interaction = []\n",
      "        for item in dataset[\"submission_sets\"]:\n",
      "            comments += dataset[\"submission_sets\"][item][\"length\"]\n",
      "            type_of_interaction.append(str(item))\n",
      "        # isolate the username and dump the data into a list\n",
      "        owner_name = str(dataset[\"owner\"].split(\"/\")[-1:][0] )\n",
      "\n",
      "        first_point, last_point = get_dataset_history(dataset[\"places\"][\"url\"])\n",
      "\n",
      "        data = [ owner_name.encode('utf8'),               # 0\n",
      "                 dataset[\"owner\"].encode('utf8'),         # 1\n",
      "                 dataset[\"display_name\"].encode('utf8'),  # 2\n",
      "                 dataset[\"slug\"].encode('utf8'),          # 3\n",
      "                 dataset[\"places\"][\"length\"],             # 4\n",
      "                 dataset[\"places\"][\"url\"],                # 5\n",
      "                 comments, type_of_interaction,          # 6, 7\n",
      "                 first_point, last_point  ]               # 8, 9\n",
      "        results.append( data )\n",
      "    return results\n",
      "\n",
      "def write_csv(OUTPUT_FILE, HEADER, DATA):\n",
      "    with open(OUTPUT_FILE, 'wb') as csvfile:\n",
      "        writer = csv.writer(csvfile, delimiter=\",\")\n",
      "        writer.writerow(HEADER)\n",
      "        for item in DATA:\n",
      "            writer.writerow(DATA[item])\n",
      "    print \"Wrote file to %s\" % output_file\n",
      "\n",
      "print \"Loaded all modules and helper functions\"\n"
     ],
     "language": "python",
     "metadata": {},
     "outputs": [
      {
       "output_type": "stream",
       "stream": "stdout",
       "text": [
        "Loaded all modules and helper functions\n"
       ]
      }
     ],
     "prompt_number": 2
    },
    {
     "cell_type": "code",
     "collapsed": false,
     "input": [
      "\n",
      "data_server = get_data('http://data.shareabouts.org/api/v2/~/datasets?format=json&page=1')\n",
      "api_server = get_data('http://api.shareabouts.org/api/v2/~/datasets?format=json&page=1')\n",
      "\n",
      "DATA_datasets = pull_dataset_data(data_server, \"results\")\n",
      "API_datasets = pull_dataset_data(api_server, \"results\")\n",
      "if len(DATA_datasets) != data_server[\"metadata\"][\"length\"]: print \"Error with DATA server data\"\n",
      "else: print \"DATA server: %i datasets\" % len(DATA_datasets)\n",
      "if len(API_datasets) != api_server[\"metadata\"][\"length\"]: print \"Error with API server data\"\n",
      "else: print \"API server: %i datasets\" % len(API_datasets)\n",
      "\n",
      "\n",
      "# #####combine the datasets from the API and DATA servers\n",
      "\n",
      "# In[6]:\n",
      "\n",
      "API_data = pull_relevant_data(API_datasets)\n",
      "DATA_data = pull_relevant_data(DATA_datasets)\n",
      "\n",
      "all_data = {}\n",
      "\n",
      "def combine_datasets(DATA_LIST, OUTPUT_DICT):\n",
      "    '''  toss datasets into a dictionary.\n",
      "         if it's already in in dictionary, use the one with more points or comments    '''\n",
      "    for item in DATA_LIST:\n",
      "        unique_id = os.path.join(item[0], item[3]) # owner/slug\n",
      "        # if the dataset is missing from the list, add it\n",
      "        if unique_id not in OUTPUT_DICT:\n",
      "            OUTPUT_DICT[unique_id] = item\n",
      "        # if it's already in the list, use the one with more places\n",
      "        else:\n",
      "            new_case = item[5].split(\".shareabouts.org\")[0]\n",
      "            existing_case = OUTPUT_DICT[unique_id][5].split(\".shareabouts.org\")[0]\n",
      "            # PLACES\n",
      "            if item[4] > OUTPUT_DICT[unique_id][4]:\n",
      "                OUTPUT_DICT[unique_id] = item\n",
      "            elif item[4] < OUTPUT_DICT[unique_id][4]:\n",
      "                pass\n",
      "            # if they have the same number of points, check comments\n",
      "            else:\n",
      "                # use the new one if it has more comments\n",
      "                # COMMENTS\n",
      "                if item[6] > OUTPUT_DICT[unique_id][6]:\n",
      "                    OUTPUT_DICT[unique_id] = item\n",
      "                else:\n",
      "                    pass\n",
      "combine_datasets(DATA_data, all_data)\n",
      "combine_datasets(API_data, all_data)\n",
      "print len(all_data)\n",
      "\n",
      "\n",
      "\n",
      "output_file = os.path.join(os.getcwd(),\n",
      "                           \"exports\",\n",
      "                           \"all_datasets.csv\")\n",
      "\n",
      "\n",
      "write_csv(output_file,\n",
      "          [\"owner\", \"owner_url\",\n",
      "          \"display_name\", \"slug\",\n",
      "          \"places\", \"place_URL\",\n",
      "          \"comments\", \"comment_type\",\n",
      "          \"first_place\", \"last_place\"],\n",
      "          all_data)\n",
      "\n"
     ],
     "language": "python",
     "metadata": {},
     "outputs": [
      {
       "output_type": "stream",
       "stream": "stdout",
       "text": [
        "DATA server: 476 datasets\n",
        "API server: 192 datasets\n",
        "http://api.shareabouts.org/api/v2/demo-user/datasets/demo-data/places\n",
        "http://api.shareabouts.org/api/v2/atogle/datasets/test/places"
       ]
      },
      {
       "output_type": "stream",
       "stream": "stdout",
       "text": [
        "\n",
        "http://api.shareabouts.org/api/v2/demo-user/datasets/cb7-demo/places"
       ]
      },
      {
       "output_type": "stream",
       "stream": "stdout",
       "text": [
        "\n",
        "http://api.shareabouts.org/api/v2/openplans/datasets/sc-usage/places"
       ]
      },
      {
       "output_type": "stream",
       "stream": "stdout",
       "text": [
        "\n",
        "http://api.shareabouts.org/api/v2/openplans/datasets/community-map/places"
       ]
      },
      {
       "output_type": "stream",
       "stream": "stdout",
       "text": [
        "\n",
        "http://api.shareabouts.org/api/v2/openplans/datasets/rr-stations/places"
       ]
      },
      {
       "output_type": "stream",
       "stream": "stdout",
       "text": [
        "\n",
        "http://api.shareabouts.org/api/v2/bicycle-coalition/datasets/rail-stations/places"
       ]
      },
      {
       "output_type": "stream",
       "stream": "stdout",
       "text": [
        "\n",
        "http://api.shareabouts.org/api/v2/urbansocial/datasets/urbansocial/places"
       ]
      },
      {
       "output_type": "stream",
       "stream": "stdout",
       "text": [
        "\n",
        "http://api.shareabouts.org/api/v2/jacksonheights/datasets/jacksonheights/places"
       ]
      },
      {
       "output_type": "stream",
       "stream": "stdout",
       "text": [
        "\n",
        "http://api.shareabouts.org/api/v2/historiclouisville/datasets/historiclouisville/places"
       ]
      },
      {
       "output_type": "stream",
       "stream": "stdout",
       "text": [
        "\n",
        "http://api.shareabouts.org/api/v2/biketotransit/datasets/biketotransit/places"
       ]
      },
      {
       "output_type": "stream",
       "stream": "stdout",
       "text": [
        "\n",
        "http://api.shareabouts.org/api/v2/vance/datasets/vance/places"
       ]
      },
      {
       "output_type": "stream",
       "stream": "stdout",
       "text": [
        "\n",
        "http://api.shareabouts.org/api/v2/openplans/datasets/atm_surcharge/places"
       ]
      },
      {
       "output_type": "stream",
       "stream": "stdout",
       "text": [
        "\n",
        "http://api.shareabouts.org/api/v2/alta/datasets/walkbikenc/places"
       ]
      },
      {
       "output_type": "stream",
       "stream": "stdout",
       "text": [
        "\n",
        "http://api.shareabouts.org/api/v2/demo-user/datasets/bigredbutton/places"
       ]
      },
      {
       "output_type": "stream",
       "stream": "stdout",
       "text": [
        "\n",
        "http://api.shareabouts.org/api/v2/openplans/datasets/repcity/places"
       ]
      },
      {
       "output_type": "stream",
       "stream": "stdout",
       "text": [
        "\n",
        "http://api.shareabouts.org/api/v2/openplans/datasets/chicagobikes/places"
       ]
      },
      {
       "output_type": "stream",
       "stream": "stdout",
       "text": [
        "\n",
        "http://api.shareabouts.org/api/v2/openplans/datasets/joyride1/places"
       ]
      },
      {
       "output_type": "stream",
       "stream": "stdout",
       "text": [
        "\n",
        "http://api.shareabouts.org/api/v2/gtracy/datasets/littlelibrary608/places"
       ]
      },
      {
       "output_type": "stream",
       "stream": "stdout",
       "text": [
        "\n",
        "http://api.shareabouts.org/api/v2/gmccollam/datasets/nolabikeshare/places"
       ]
      },
      {
       "output_type": "stream",
       "stream": "stdout",
       "text": [
        "\n",
        "http://api.shareabouts.org/api/v2/sandymap/datasets/sandy-recovery/places"
       ]
      },
      {
       "output_type": "stream",
       "stream": "stdout",
       "text": [
        "\n",
        "http://api.shareabouts.org/api/v2/fhebbert/datasets/test/places"
       ]
      },
      {
       "output_type": "stream",
       "stream": "stdout",
       "text": [
        "\n",
        "http://api.shareabouts.org/api/v2/afraint/datasets/crashdata_NYC/places"
       ]
      },
      {
       "output_type": "stream",
       "stream": "stdout",
       "text": [
        "\n",
        "http://api.shareabouts.org/api/v2/georgiabullen/datasets/civichacking_data/places"
       ]
      },
      {
       "output_type": "stream",
       "stream": "stdout",
       "text": [
        "\n",
        "http://api.shareabouts.org/api/v2/columbia1/datasets/BGData/places"
       ]
      },
      {
       "output_type": "stream",
       "stream": "stdout",
       "text": [
        "\n",
        "http://api.shareabouts.org/api/v2/columbia1/datasets/KazData/places"
       ]
      },
      {
       "output_type": "stream",
       "stream": "stdout",
       "text": [
        "\n",
        "http://api.shareabouts.org/api/v2/columbia1/datasets/EllisData/places"
       ]
      },
      {
       "output_type": "stream",
       "stream": "stdout",
       "text": [
        "\n",
        "http://api.shareabouts.org/api/v2/columbia1/datasets/AmyData/places"
       ]
      },
      {
       "output_type": "stream",
       "stream": "stdout",
       "text": [
        "\n",
        "http://api.shareabouts.org/api/v2/smitaki/datasets/cmom/places"
       ]
      },
      {
       "output_type": "stream",
       "stream": "stdout",
       "text": [
        "\n",
        "http://api.shareabouts.org/api/v2/georgiabullen/datasets/coronaplaza/places"
       ]
      },
      {
       "output_type": "stream",
       "stream": "stdout",
       "text": [
        "\n",
        "http://api.shareabouts.org/api/v2/afraint/datasets/overlays/places"
       ]
      },
      {
       "output_type": "stream",
       "stream": "stdout",
       "text": [
        "\n",
        "http://api.shareabouts.org/api/v2/afraint/datasets/crash_testing/places"
       ]
      },
      {
       "output_type": "stream",
       "stream": "stdout",
       "text": [
        "\n",
        "http://api.shareabouts.org/api/v2/openplans/datasets/ped_obstacles/places"
       ]
      },
      {
       "output_type": "stream",
       "stream": "stdout",
       "text": [
        "\n",
        "http://api.shareabouts.org/api/v2/jlally/datasets/test/places"
       ]
      },
      {
       "output_type": "stream",
       "stream": "stdout",
       "text": [
        "\n",
        "http://api.shareabouts.org/api/v2/openplans/datasets/discussions/places"
       ]
      },
      {
       "output_type": "stream",
       "stream": "stdout",
       "text": [
        "\n",
        "http://api.shareabouts.org/api/v2/afraint/datasets/new_york_data/places"
       ]
      },
      {
       "output_type": "stream",
       "stream": "stdout",
       "text": [
        "\n",
        "http://api.shareabouts.org/api/v2/jjones/datasets/ncstatebikes/places"
       ]
      },
      {
       "output_type": "stream",
       "stream": "stdout",
       "text": [
        "\n",
        "http://api.shareabouts.org/api/v2/ManhCB1/datasets/active-rec-spaces/places"
       ]
      },
      {
       "output_type": "stream",
       "stream": "stdout",
       "text": [
        "\n",
        "http://api.shareabouts.org/api/v2/georgiabullen/datasets/mountrainier/places"
       ]
      },
      {
       "output_type": "stream",
       "stream": "stdout",
       "text": [
        "\n",
        "http://api.shareabouts.org/api/v2/apramana/datasets/muni-data/places"
       ]
      },
      {
       "output_type": "stream",
       "stream": "stdout",
       "text": [
        "\n",
        "http://api.shareabouts.org/api/v2/steveleathers/datasets/joy/places"
       ]
      },
      {
       "output_type": "stream",
       "stream": "stdout",
       "text": [
        "\n",
        "http://api.shareabouts.org/api/v2/gtracy/datasets/madisonstartups/places"
       ]
      },
      {
       "output_type": "stream",
       "stream": "stdout",
       "text": [
        "\n",
        "http://api.shareabouts.org/api/v2/openatlanta/datasets/atlart/places"
       ]
      },
      {
       "output_type": "stream",
       "stream": "stdout",
       "text": [
        "\n",
        "http://api.shareabouts.org/api/v2/phlush/datasets/phlush/places"
       ]
      },
      {
       "output_type": "stream",
       "stream": "stdout",
       "text": [
        "\n",
        "http://api.shareabouts.org/api/v2/chekpeds/datasets/benches/places"
       ]
      },
      {
       "output_type": "stream",
       "stream": "stdout",
       "text": [
        "\n",
        "http://api.shareabouts.org/api/v2/openplans/datasets/stamford/places"
       ]
      },
      {
       "output_type": "stream",
       "stream": "stdout",
       "text": [
        "\n",
        "http://api.shareabouts.org/api/v2/jjones/datasets/walkstudy/places"
       ]
      },
      {
       "output_type": "stream",
       "stream": "stdout",
       "text": [
        "\n",
        "http://api.shareabouts.org/api/v2/jjones/datasets/midsouth2/places"
       ]
      },
      {
       "output_type": "stream",
       "stream": "stdout",
       "text": [
        "\n",
        "http://api.shareabouts.org/api/v2/publicinnovation/datasets/sacramento/places"
       ]
      },
      {
       "output_type": "stream",
       "stream": "stdout",
       "text": [
        "\n",
        "http://api.shareabouts.org/api/v2/chekpeds/datasets/intersections/places"
       ]
      },
      {
       "output_type": "stream",
       "stream": "stdout",
       "text": [
        "\n",
        "http://api.shareabouts.org/api/v2/chekpeds/datasets/lessphonebooths/places"
       ]
      },
      {
       "output_type": "stream",
       "stream": "stdout",
       "text": [
        "\n",
        "http://api.shareabouts.org/api/v2/jlally/datasets/mansfield/places"
       ]
      },
      {
       "output_type": "stream",
       "stream": "stdout",
       "text": [
        "\n",
        "http://api.shareabouts.org/api/v2/openplans/datasets/survey-test/places"
       ]
      },
      {
       "output_type": "stream",
       "stream": "stdout",
       "text": [
        "\n",
        "http://api.shareabouts.org/api/v2/jlally/datasets/sustainable-communities/places"
       ]
      },
      {
       "output_type": "stream",
       "stream": "stdout",
       "text": [
        "\n",
        "http://api.shareabouts.org/api/v2/mejackreed/datasets/gatiremap-dev1/places"
       ]
      },
      {
       "output_type": "stream",
       "stream": "stdout",
       "text": [
        "\n",
        "http://api.shareabouts.org/api/v2/atlantabike/datasets/bikeshare/places"
       ]
      },
      {
       "output_type": "stream",
       "stream": "stdout",
       "text": [
        "\n",
        "http://api.shareabouts.org/api/v2/openplans/datasets/testy-mctest/places"
       ]
      },
      {
       "output_type": "stream",
       "stream": "stdout",
       "text": [
        "\n",
        "http://api.shareabouts.org/api/v2/openplans/datasets/n3rd-st/places"
       ]
      },
      {
       "output_type": "stream",
       "stream": "stdout",
       "text": [
        "\n",
        "http://api.shareabouts.org/api/v2/openplans/datasets/testy/places"
       ]
      },
      {
       "output_type": "stream",
       "stream": "stdout",
       "text": [
        "\n",
        "http://api.shareabouts.org/api/v2/openplans/datasets/cb3survey-clone/places"
       ]
      },
      {
       "output_type": "stream",
       "stream": "stdout",
       "text": [
        "\n",
        "http://api.shareabouts.org/api/v2/openplans/datasets/devsg/places"
       ]
      },
      {
       "output_type": "stream",
       "stream": "stdout",
       "text": [
        "\n",
        "http://api.shareabouts.org/api/v2/openplans/datasets/prodsg/places"
       ]
      },
      {
       "output_type": "stream",
       "stream": "stdout",
       "text": [
        "\n",
        "http://api.shareabouts.org/api/v2/openplans/datasets/cb8-survey/places"
       ]
      },
      {
       "output_type": "stream",
       "stream": "stdout",
       "text": [
        "\n",
        "http://api.shareabouts.org/api/v2/jpichot/datasets/betterblockgr/places"
       ]
      },
      {
       "output_type": "stream",
       "stream": "stdout",
       "text": [
        "\n",
        "http://api.shareabouts.org/api/v2/jpichot/datasets/restate/places"
       ]
      },
      {
       "output_type": "stream",
       "stream": "stdout",
       "text": [
        "\n",
        "http://api.shareabouts.org/api/v2/markabraham/datasets/datahaven/places"
       ]
      },
      {
       "output_type": "stream",
       "stream": "stdout",
       "text": [
        "\n",
        "http://api.shareabouts.org/api/v2/HamptonRoads/datasets/Test/places"
       ]
      },
      {
       "output_type": "stream",
       "stream": "stdout",
       "text": [
        "\n",
        "http://api.shareabouts.org/api/v2/publicinnovation/datasets/streetfarm/places"
       ]
      },
      {
       "output_type": "stream",
       "stream": "stdout",
       "text": [
        "\n",
        "http://api.shareabouts.org/api/v2/iturgeon/datasets/letsrecycle/places"
       ]
      },
      {
       "output_type": "stream",
       "stream": "stdout",
       "text": [
        "\n",
        "http://api.shareabouts.org/api/v2/dvandemark/datasets/suncycles/places"
       ]
      },
      {
       "output_type": "stream",
       "stream": "stdout",
       "text": [
        "\n",
        "http://api.shareabouts.org/api/v2/afraint/datasets/twincities/places"
       ]
      },
      {
       "output_type": "stream",
       "stream": "stdout",
       "text": [
        "\n",
        "http://api.shareabouts.org/api/v2/openplans/datasets/cb3-survey-copy/places"
       ]
      },
      {
       "output_type": "stream",
       "stream": "stdout",
       "text": [
        "\n",
        "http://api.shareabouts.org/api/v2/openplans/datasets/cb1-active/places"
       ]
      },
      {
       "output_type": "stream",
       "stream": "stdout",
       "text": [
        "\n",
        "http://api.shareabouts.org/api/v2/weho/datasets/weho/places"
       ]
      },
      {
       "output_type": "stream",
       "stream": "stdout",
       "text": [
        "\n",
        "http://api.shareabouts.org/api/v2/cmlander/datasets/albemarle-survey/places"
       ]
      },
      {
       "output_type": "stream",
       "stream": "stdout",
       "text": [
        "\n",
        "http://api.shareabouts.org/api/v2/jj0hns0n/datasets/realconnect-test/places"
       ]
      },
      {
       "output_type": "stream",
       "stream": "stdout",
       "text": [
        "\n",
        "http://api.shareabouts.org/api/v2/openplans/datasets/ourmiami/places"
       ]
      },
      {
       "output_type": "stream",
       "stream": "stdout",
       "text": [
        "\n",
        "http://api.shareabouts.org/api/v2/walkersq/datasets/walkersq/places"
       ]
      },
      {
       "output_type": "stream",
       "stream": "stdout",
       "text": [
        "\n",
        "http://api.shareabouts.org/api/v2/jj0hns0n/datasets/sdcipcpg/places"
       ]
      },
      {
       "output_type": "stream",
       "stream": "stdout",
       "text": [
        "\n",
        "http://api.shareabouts.org/api/v2/steveleathers/datasets/migshare/places"
       ]
      },
      {
       "output_type": "stream",
       "stream": "stdout",
       "text": [
        "\n",
        "http://api.shareabouts.org/api/v2/bksrts/datasets/ps261/places"
       ]
      },
      {
       "output_type": "stream",
       "stream": "stdout",
       "text": [
        "\n",
        "http://api.shareabouts.org/api/v2/bksrts/datasets/ps261dev/places"
       ]
      },
      {
       "output_type": "stream",
       "stream": "stdout",
       "text": [
        "\n",
        "http://api.shareabouts.org/api/v2/bksrts/datasets/ps84/places"
       ]
      },
      {
       "output_type": "stream",
       "stream": "stdout",
       "text": [
        "\n",
        "http://api.shareabouts.org/api/v2/bksrts/datasets/ps84dev/places"
       ]
      },
      {
       "output_type": "stream",
       "stream": "stdout",
       "text": [
        "\n",
        "http://api.shareabouts.org/api/v2/bksrts/datasets/ps132/places"
       ]
      },
      {
       "output_type": "stream",
       "stream": "stdout",
       "text": [
        "\n",
        "http://api.shareabouts.org/api/v2/bksrts/datasets/ps132dev/places"
       ]
      },
      {
       "output_type": "stream",
       "stream": "stdout",
       "text": [
        "\n",
        "http://api.shareabouts.org/api/v2/bksrts/datasets/ms51/places"
       ]
      },
      {
       "output_type": "stream",
       "stream": "stdout",
       "text": [
        "\n",
        "http://api.shareabouts.org/api/v2/bksrts/datasets/ms51dev/places"
       ]
      },
      {
       "output_type": "stream",
       "stream": "stdout",
       "text": [
        "\n",
        "http://api.shareabouts.org/api/v2/bksrts/datasets/srts/places"
       ]
      },
      {
       "output_type": "stream",
       "stream": "stdout",
       "text": [
        "\n",
        "http://api.shareabouts.org/api/v2/bksrts/datasets/srts-dev/places"
       ]
      },
      {
       "output_type": "stream",
       "stream": "stdout",
       "text": [
        "\n",
        "http://api.shareabouts.org/api/v2/sacramento/datasets/srts/places"
       ]
      },
      {
       "output_type": "stream",
       "stream": "stdout",
       "text": [
        "\n",
        "http://api.shareabouts.org/api/v2/danielmichaelwolf/datasets/UCD-bike-racks/places"
       ]
      },
      {
       "output_type": "stream",
       "stream": "stdout",
       "text": [
        "\n",
        "http://api.shareabouts.org/api/v2/jjones/datasets/richmond-bike/places"
       ]
      },
      {
       "output_type": "stream",
       "stream": "stdout",
       "text": [
        "\n",
        "http://api.shareabouts.org/api/v2/jjones/datasets/moraga/places"
       ]
      },
      {
       "output_type": "stream",
       "stream": "stdout",
       "text": [
        "\n",
        "http://api.shareabouts.org/api/v2/paulmackay/datasets/subways/places"
       ]
      },
      {
       "output_type": "stream",
       "stream": "stdout",
       "text": [
        "\n",
        "http://api.shareabouts.org/api/v2/michelleschmitt/datasets/the-oval/places"
       ]
      },
      {
       "output_type": "stream",
       "stream": "stdout",
       "text": [
        "\n",
        "http://api.shareabouts.org/api/v2/ourmiami/datasets/ourmiami/places"
       ]
      },
      {
       "output_type": "stream",
       "stream": "stdout",
       "text": [
        "\n",
        "http://api.shareabouts.org/api/v2/geosprocket/datasets/placesurvey/places"
       ]
      },
      {
       "output_type": "stream",
       "stream": "stdout",
       "text": [
        "\n",
        "http://api.shareabouts.org/api/v2/salem/datasets/salemsrts/places"
       ]
      },
      {
       "output_type": "stream",
       "stream": "stdout",
       "text": [
        "\n",
        "http://api.shareabouts.org/api/v2/cb6/datasets/cb6capex/places"
       ]
      },
      {
       "output_type": "stream",
       "stream": "stdout",
       "text": [
        "\n",
        "http://api.shareabouts.org/api/v2/linndavis/datasets/ciity/places"
       ]
      },
      {
       "output_type": "stream",
       "stream": "stdout",
       "text": [
        "\n",
        "http://api.shareabouts.org/api/v2/codeformiami/datasets/dwmb/places"
       ]
      },
      {
       "output_type": "stream",
       "stream": "stdout",
       "text": [
        "\n",
        "http://api.shareabouts.org/api/v2/geosprocket/datasets/cvrpc5/places"
       ]
      },
      {
       "output_type": "stream",
       "stream": "stdout",
       "text": [
        "\n",
        "http://api.shareabouts.org/api/v2/partnc/datasets/test/places"
       ]
      },
      {
       "output_type": "stream",
       "stream": "stdout",
       "text": [
        "\n",
        "http://api.shareabouts.org/api/v2/openplans/datasets/borotaxis/places"
       ]
      },
      {
       "output_type": "stream",
       "stream": "stdout",
       "text": [
        "\n",
        "http://api.shareabouts.org/api/v2/mejackreed/datasets/test/places"
       ]
      },
      {
       "output_type": "stream",
       "stream": "stdout",
       "text": [
        "\n",
        "http://api.shareabouts.org/api/v2/Eskilstuna/datasets/stadsparken/places"
       ]
      },
      {
       "output_type": "stream",
       "stream": "stdout",
       "text": [
        "\n",
        "http://api.shareabouts.org/api/v2/HamptonRoads/datasets/slugs/places"
       ]
      },
      {
       "output_type": "stream",
       "stream": "stdout",
       "text": [
        "\n",
        "http://api.shareabouts.org/api/v2/openplans/datasets/devnyrrh/places"
       ]
      },
      {
       "output_type": "stream",
       "stream": "stdout",
       "text": [
        "\n",
        "http://api.shareabouts.org/api/v2/marketmain/datasets/vhmp/places"
       ]
      },
      {
       "output_type": "stream",
       "stream": "stdout",
       "text": [
        "\n",
        "http://api.shareabouts.org/api/v2/openplans/datasets/devpbnyc/places"
       ]
      },
      {
       "output_type": "stream",
       "stream": "stdout",
       "text": [
        "\n",
        "http://api.shareabouts.org/api/v2/jlally/datasets/eastcorridor/places"
       ]
      },
      {
       "output_type": "stream",
       "stream": "stdout",
       "text": [
        "\n",
        "http://api.shareabouts.org/api/v2/spjika/datasets/OSNI/places"
       ]
      },
      {
       "output_type": "stream",
       "stream": "stdout",
       "text": [
        "\n",
        "http://api.shareabouts.org/api/v2/nyrising/datasets/rhtest/places"
       ]
      },
      {
       "output_type": "stream",
       "stream": "stdout",
       "text": [
        "\n",
        "http://api.shareabouts.org/api/v2/makebrooklynsafer/datasets/makebrooklynsafer/places"
       ]
      },
      {
       "output_type": "stream",
       "stream": "stdout",
       "text": [
        "\n",
        "http://api.shareabouts.org/api/v2/jjones/datasets/nwarkansas/places"
       ]
      },
      {
       "output_type": "stream",
       "stream": "stdout",
       "text": [
        "\n",
        "http://api.shareabouts.org/api/v2/nyrising/datasets/rh2/places"
       ]
      },
      {
       "output_type": "stream",
       "stream": "stdout",
       "text": [
        "\n",
        "http://api.shareabouts.org/api/v2/nyrising/datasets/rh/places"
       ]
      },
      {
       "output_type": "stream",
       "stream": "stdout",
       "text": [
        "\n",
        "http://api.shareabouts.org/api/v2/d23/datasets/d23/places"
       ]
      },
      {
       "output_type": "stream",
       "stream": "stdout",
       "text": [
        "\n",
        "http://api.shareabouts.org/api/v2/d31/datasets/d31/places"
       ]
      },
      {
       "output_type": "stream",
       "stream": "stdout",
       "text": [
        "\n",
        "http://api.shareabouts.org/api/v2/d33/datasets/d33/places"
       ]
      },
      {
       "output_type": "stream",
       "stream": "stdout",
       "text": [
        "\n",
        "http://api.shareabouts.org/api/v2/d44/datasets/d44/places"
       ]
      },
      {
       "output_type": "stream",
       "stream": "stdout",
       "text": [
        "\n",
        "http://api.shareabouts.org/api/v2/d8/datasets/d8/places"
       ]
      },
      {
       "output_type": "stream",
       "stream": "stdout",
       "text": [
        "\n",
        "http://api.shareabouts.org/api/v2/d39/datasets/d39/places"
       ]
      },
      {
       "output_type": "stream",
       "stream": "stdout",
       "text": [
        "\n",
        "http://api.shareabouts.org/api/v2/d38/datasets/d38/places"
       ]
      },
      {
       "output_type": "stream",
       "stream": "stdout",
       "text": [
        "\n",
        "http://api.shareabouts.org/api/v2/interfacestudio/datasets/macon/places"
       ]
      },
      {
       "output_type": "stream",
       "stream": "stdout",
       "text": [
        "\n",
        "http://api.shareabouts.org/api/v2/nyrising/datasets/rh3/places"
       ]
      },
      {
       "output_type": "stream",
       "stream": "stdout",
       "text": [
        "\n",
        "http://api.shareabouts.org/api/v2/openplans/datasets/polydemo/places"
       ]
      },
      {
       "output_type": "stream",
       "stream": "stdout",
       "text": [
        "\n",
        "http://api.shareabouts.org/api/v2/Eskilstuna/datasets/tyck_tiller/places"
       ]
      },
      {
       "output_type": "stream",
       "stream": "stdout",
       "text": [
        "\n",
        "http://api.shareabouts.org/api/v2/nyrising/datasets/hb/places"
       ]
      },
      {
       "output_type": "stream",
       "stream": "stdout",
       "text": [
        "\n",
        "http://api.shareabouts.org/api/v2/jjones/datasets/wfubikeped/places"
       ]
      },
      {
       "output_type": "stream",
       "stream": "stdout",
       "text": [
        "\n",
        "http://api.shareabouts.org/api/v2/nyrising/datasets/hb-full/places"
       ]
      },
      {
       "output_type": "stream",
       "stream": "stdout",
       "text": [
        "\n",
        "http://api.shareabouts.org/api/v2/openplans/datasets/devnyrhb/places"
       ]
      },
      {
       "output_type": "stream",
       "stream": "stdout",
       "text": [
        "\n",
        "http://api.shareabouts.org/api/v2/mcb7/datasets/mcb7capex/places"
       ]
      },
      {
       "output_type": "stream",
       "stream": "stdout",
       "text": [
        "\n",
        "http://api.shareabouts.org/api/v2/borotaxis/datasets/test/places"
       ]
      },
      {
       "output_type": "stream",
       "stream": "stdout",
       "text": [
        "\n",
        "http://api.shareabouts.org/api/v2/openplans/datasets/devdivvy/places"
       ]
      },
      {
       "output_type": "stream",
       "stream": "stdout",
       "text": [
        "\n",
        "http://api.shareabouts.org/api/v2/divvy/datasets/divvy/places"
       ]
      },
      {
       "output_type": "stream",
       "stream": "stdout",
       "text": [
        "\n",
        "http://api.shareabouts.org/api/v2/demo-user/datasets/ui-refresh-testing/places"
       ]
      },
      {
       "output_type": "stream",
       "stream": "stdout",
       "text": [
        "\n",
        "http://api.shareabouts.org/api/v2/jesperfrant/datasets/fieldplacements/places"
       ]
      },
      {
       "output_type": "stream",
       "stream": "stdout",
       "text": [
        "\n",
        "http://api.shareabouts.org/api/v2/mtouzin/datasets/cesty/places"
       ]
      },
      {
       "output_type": "stream",
       "stream": "stdout",
       "text": [
        "\n",
        "http://api.shareabouts.org/api/v2/jjones/datasets/moragard/places"
       ]
      },
      {
       "output_type": "stream",
       "stream": "stdout",
       "text": [
        "\n",
        "http://api.shareabouts.org/api/v2/nyrising/datasets/lmtemp/places"
       ]
      },
      {
       "output_type": "stream",
       "stream": "stdout",
       "text": [
        "\n",
        "http://api.shareabouts.org/api/v2/makebrooklynsafer/datasets/78thprecinct/places"
       ]
      },
      {
       "output_type": "stream",
       "stream": "stdout",
       "text": [
        "\n",
        "http://api.shareabouts.org/api/v2/columbia1/datasets/CarolineData/places"
       ]
      },
      {
       "output_type": "stream",
       "stream": "stdout",
       "text": [
        "\n",
        "http://api.shareabouts.org/api/v2/esmith/datasets/poi/places"
       ]
      },
      {
       "output_type": "stream",
       "stream": "stdout",
       "text": [
        "\n",
        "http://api.shareabouts.org/api/v2/dksassociates/datasets/dundee/places"
       ]
      },
      {
       "output_type": "stream",
       "stream": "stdout",
       "text": [
        "\n",
        "http://api.shareabouts.org/api/v2/dksassociates/datasets/clatsop/places"
       ]
      },
      {
       "output_type": "stream",
       "stream": "stdout",
       "text": [
        "\n",
        "http://api.shareabouts.org/api/v2/columbia1/datasets/GillianData/places"
       ]
      },
      {
       "output_type": "stream",
       "stream": "stdout",
       "text": [
        "\n",
        "http://api.shareabouts.org/api/v2/nammacycle/datasets/rama/places"
       ]
      },
      {
       "output_type": "stream",
       "stream": "stdout",
       "text": [
        "\n",
        "http://api.shareabouts.org/api/v2/dksassociates/datasets/newberg/places"
       ]
      },
      {
       "output_type": "stream",
       "stream": "stdout",
       "text": [
        "\n",
        "http://api.shareabouts.org/api/v2/atogle858a78b024d647ce/datasets/test/places"
       ]
      },
      {
       "output_type": "stream",
       "stream": "stdout",
       "text": [
        "\n",
        "http://api.shareabouts.org/api/v2/cmassa/datasets/recoverymap/places"
       ]
      },
      {
       "output_type": "stream",
       "stream": "stdout",
       "text": [
        "\n",
        "http://api.shareabouts.org/api/v2/cb3/datasets/cb3-survey/places"
       ]
      },
      {
       "output_type": "stream",
       "stream": "stdout",
       "text": [
        "\n",
        "http://api.shareabouts.org/api/v2/UniversityBikeCollective/datasets/test/places"
       ]
      },
      {
       "output_type": "stream",
       "stream": "stdout",
       "text": [
        "\n",
        "http://api.shareabouts.org/api/v2/makebrooklynsafer/datasets/76thprecinct/places"
       ]
      },
      {
       "output_type": "stream",
       "stream": "stdout",
       "text": [
        "\n",
        "http://api.shareabouts.org/api/v2/makebrooklynsafer/datasets/84thprecinct/places"
       ]
      },
      {
       "output_type": "stream",
       "stream": "stdout",
       "text": [
        "\n",
        "http://api.shareabouts.org/api/v2/crowdspot/datasets/demo/places"
       ]
      },
      {
       "output_type": "stream",
       "stream": "stdout",
       "text": [
        "\n",
        "http://api.shareabouts.org/api/v2/crowdspot/datasets/demo-crowdspot/places"
       ]
      },
      {
       "output_type": "stream",
       "stream": "stdout",
       "text": [
        "\n",
        "http://api.shareabouts.org/api/v2/jlally/datasets/walkdenver/places"
       ]
      },
      {
       "output_type": "stream",
       "stream": "stdout",
       "text": [
        "\n",
        "http://api.shareabouts.org/api/v2/afraint/datasets/nyc_dev_data/places"
       ]
      },
      {
       "output_type": "stream",
       "stream": "stdout",
       "text": [
        "\n",
        "http://api.shareabouts.org/api/v2/jjones/datasets/newport/places"
       ]
      },
      {
       "output_type": "stream",
       "stream": "stdout",
       "text": [
        "\n",
        "http://api.shareabouts.org/api/v2/dksassociates/datasets/cottagegrove/places"
       ]
      },
      {
       "output_type": "stream",
       "stream": "stdout",
       "text": [
        "\n",
        "http://api.shareabouts.org/api/v2/UniversityBikeCollective/datasets/ForSurvey/places"
       ]
      },
      {
       "output_type": "stream",
       "stream": "stdout",
       "text": [
        "\n",
        "http://api.shareabouts.org/api/v2/jjones/datasets/marion/places"
       ]
      },
      {
       "output_type": "stream",
       "stream": "stdout",
       "text": [
        "\n",
        "http://api.shareabouts.org/api/v2/chattanoogagov/datasets/greatplaces/places"
       ]
      },
      {
       "output_type": "stream",
       "stream": "stdout",
       "text": [
        "\n",
        "http://api.shareabouts.org/api/v2/dksassociates/datasets/test/places"
       ]
      },
      {
       "output_type": "stream",
       "stream": "stdout",
       "text": [
        "\n",
        "http://api.shareabouts.org/api/v2/dksassociates/datasets/dkstest/places"
       ]
      },
      {
       "output_type": "stream",
       "stream": "stdout",
       "text": [
        "\n",
        "http://api.shareabouts.org/api/v2/jj0hns0n/datasets/sdcipcpg-2014/places"
       ]
      },
      {
       "output_type": "stream",
       "stream": "stdout",
       "text": [
        "\n",
        "http://api.shareabouts.org/api/v2/jj0hns0n/datasets/sdcipcpg-2015/places"
       ]
      },
      {
       "output_type": "stream",
       "stream": "stdout",
       "text": [
        "\n",
        "http://api.shareabouts.org/api/v2/jjones/datasets/goldsboro/places"
       ]
      },
      {
       "output_type": "stream",
       "stream": "stdout",
       "text": [
        "\n",
        "http://api.shareabouts.org/api/v2/TimMoreland/datasets/greatplacetest/places"
       ]
      },
      {
       "output_type": "stream",
       "stream": "stdout",
       "text": [
        "\n",
        "http://api.shareabouts.org/api/v2/chattanoogagov/datasets/greatplacestest/places"
       ]
      },
      {
       "output_type": "stream",
       "stream": "stdout",
       "text": [
        "\n",
        "http://api.shareabouts.org/api/v2/d39/datasets/d39-shortlist-test/places"
       ]
      },
      {
       "output_type": "stream",
       "stream": "stdout",
       "text": [
        "\n",
        "http://api.shareabouts.org/api/v2/jjones/datasets/psbs/places"
       ]
      },
      {
       "output_type": "stream",
       "stream": "stdout",
       "text": [
        "\n",
        "http://api.shareabouts.org/api/v2/makebrooklynsafer/datasets/kross2013/places"
       ]
      },
      {
       "output_type": "stream",
       "stream": "stdout",
       "text": [
        "\n",
        "http://api.shareabouts.org/api/v2/dksassociates/datasets/columbia/places"
       ]
      },
      {
       "output_type": "stream",
       "stream": "stdout",
       "text": [
        "\n",
        "http://api.shareabouts.org/api/v2/jlally/datasets/osu/places"
       ]
      },
      {
       "output_type": "stream",
       "stream": "stdout",
       "text": [
        "\n",
        "http://api.shareabouts.org/api/v2/jjones/datasets/cogo/places"
       ]
      },
      {
       "output_type": "stream",
       "stream": "stdout",
       "text": [
        "\n",
        "http://api.shareabouts.org/api/v2/jjones/datasets/stlouis/places"
       ]
      },
      {
       "output_type": "stream",
       "stream": "stdout",
       "text": [
        "\n",
        "http://api.shareabouts.org/api/v2/jjones/datasets/columbia/places"
       ]
      },
      {
       "output_type": "stream",
       "stream": "stdout",
       "text": [
        "\n",
        "http://api.shareabouts.org/api/v2/sacramento/datasets/safesac/places"
       ]
      },
      {
       "output_type": "stream",
       "stream": "stdout",
       "text": [
        "\n",
        "http://api.shareabouts.org/api/v2/nyrising/datasets/rh4/places"
       ]
      },
      {
       "output_type": "stream",
       "stream": "stdout",
       "text": [
        "\n",
        "http://api.shareabouts.org/api/v2/borotaxis/datasets/taxistands/places"
       ]
      },
      {
       "output_type": "stream",
       "stream": "stdout",
       "text": [
        "\n",
        "http://api.shareabouts.org/api/v2/dksassociates/datasets/lane/places"
       ]
      },
      {
       "output_type": "stream",
       "stream": "stdout",
       "text": [
        "\n",
        "http://api.shareabouts.org/api/v2/ManhCB6/datasets/mcb6capex/places"
       ]
      },
      {
       "output_type": "stream",
       "stream": "stdout",
       "text": [
        "\n",
        "http://api.shareabouts.org/api/v2/nyrising/datasets/bp/places"
       ]
      },
      {
       "output_type": "stream",
       "stream": "stdout",
       "text": [
        "\n",
        "http://api.shareabouts.org/api/v2/nyrising/datasets/lm/places"
       ]
      },
      {
       "output_type": "stream",
       "stream": "stdout",
       "text": [
        "\n",
        "http://api.shareabouts.org/api/v2/nyrising/datasets/re/places"
       ]
      },
      {
       "output_type": "stream",
       "stream": "stdout",
       "text": [
        "\n",
        "http://api.shareabouts.org/api/v2/nyrising/datasets/rw/places"
       ]
      },
      {
       "output_type": "stream",
       "stream": "stdout",
       "text": [
        "\n",
        "http://api.shareabouts.org/api/v2/d32/datasets/d32/places"
       ]
      },
      {
       "output_type": "stream",
       "stream": "stdout",
       "text": [
        "\n",
        "http://api.shareabouts.org/api/v2/d45/datasets/d45/places"
       ]
      },
      {
       "output_type": "stream",
       "stream": "stdout",
       "text": [
        "\n",
        "http://api.shareabouts.org/api/v2/columbia1/datasets/rise/places"
       ]
      },
      {
       "output_type": "stream",
       "stream": "stdout",
       "text": [
        "\n",
        "http://data.shareabouts.org/api/v2/atogle/datasets/test/places"
       ]
      },
      {
       "output_type": "stream",
       "stream": "stdout",
       "text": [
        "\n",
        "http://data.shareabouts.org/api/v2/demo-user/datasets/cb7-demo/places"
       ]
      },
      {
       "output_type": "stream",
       "stream": "stdout",
       "text": [
        "\n",
        "http://data.shareabouts.org/api/v2/openplans/datasets/sc-usage/places"
       ]
      },
      {
       "output_type": "stream",
       "stream": "stdout",
       "text": [
        "\n",
        "http://data.shareabouts.org/api/v2/openplans/datasets/community-map/places"
       ]
      },
      {
       "output_type": "stream",
       "stream": "stdout",
       "text": [
        "\n",
        "http://data.shareabouts.org/api/v2/openplans/datasets/rr-stations/places"
       ]
      },
      {
       "output_type": "stream",
       "stream": "stdout",
       "text": [
        "\n",
        "http://data.shareabouts.org/api/v2/bicycle-coalition/datasets/rail-stations/places"
       ]
      },
      {
       "output_type": "stream",
       "stream": "stdout",
       "text": [
        "\n",
        "http://data.shareabouts.org/api/v2/urbansocial/datasets/urbansocial/places"
       ]
      },
      {
       "output_type": "stream",
       "stream": "stdout",
       "text": [
        "\n",
        "http://data.shareabouts.org/api/v2/jacksonheights/datasets/jacksonheights/places"
       ]
      },
      {
       "output_type": "stream",
       "stream": "stdout",
       "text": [
        "\n",
        "http://data.shareabouts.org/api/v2/historiclouisville/datasets/historiclouisville/places"
       ]
      },
      {
       "output_type": "stream",
       "stream": "stdout",
       "text": [
        "\n",
        "http://data.shareabouts.org/api/v2/makebrooklynsafer/datasets/makebrooklynsafer/places"
       ]
      },
      {
       "output_type": "stream",
       "stream": "stdout",
       "text": [
        "\n",
        "http://data.shareabouts.org/api/v2/biketotransit/datasets/biketotransit/places"
       ]
      },
      {
       "output_type": "stream",
       "stream": "stdout",
       "text": [
        "\n",
        "http://data.shareabouts.org/api/v2/vance/datasets/vance/places"
       ]
      },
      {
       "output_type": "stream",
       "stream": "stdout",
       "text": [
        "\n",
        "http://data.shareabouts.org/api/v2/openplans/datasets/atm_surcharge/places"
       ]
      },
      {
       "output_type": "stream",
       "stream": "stdout",
       "text": [
        "\n",
        "http://data.shareabouts.org/api/v2/alta/datasets/walkbikenc/places"
       ]
      },
      {
       "output_type": "stream",
       "stream": "stdout",
       "text": [
        "\n",
        "http://data.shareabouts.org/api/v2/demo-user/datasets/bigredbutton/places"
       ]
      },
      {
       "output_type": "stream",
       "stream": "stdout",
       "text": [
        "\n",
        "http://data.shareabouts.org/api/v2/openplans/datasets/repcity/places"
       ]
      },
      {
       "output_type": "stream",
       "stream": "stdout",
       "text": [
        "\n",
        "http://data.shareabouts.org/api/v2/openplans/datasets/chicagobikes/places"
       ]
      },
      {
       "output_type": "stream",
       "stream": "stdout",
       "text": [
        "\n",
        "http://data.shareabouts.org/api/v2/openplans/datasets/joyride1/places"
       ]
      },
      {
       "output_type": "stream",
       "stream": "stdout",
       "text": [
        "\n",
        "http://data.shareabouts.org/api/v2/gtracy/datasets/littlelibrary608/places"
       ]
      },
      {
       "output_type": "stream",
       "stream": "stdout",
       "text": [
        "\n",
        "http://data.shareabouts.org/api/v2/gmccollam/datasets/nolabikeshare/places"
       ]
      },
      {
       "output_type": "stream",
       "stream": "stdout",
       "text": [
        "\n",
        "http://data.shareabouts.org/api/v2/sandymap/datasets/sandy-recovery/places"
       ]
      },
      {
       "output_type": "stream",
       "stream": "stdout",
       "text": [
        "\n",
        "http://data.shareabouts.org/api/v2/fhebbert/datasets/test/places"
       ]
      },
      {
       "output_type": "stream",
       "stream": "stdout",
       "text": [
        "\n",
        "http://data.shareabouts.org/api/v2/afraint/datasets/crashdata_NYC/places"
       ]
      },
      {
       "output_type": "stream",
       "stream": "stdout",
       "text": [
        "\n",
        "http://data.shareabouts.org/api/v2/georgiabullen/datasets/civichacking_data/places"
       ]
      },
      {
       "output_type": "stream",
       "stream": "stdout",
       "text": [
        "\n",
        "http://data.shareabouts.org/api/v2/columbia1/datasets/BGData/places"
       ]
      },
      {
       "output_type": "stream",
       "stream": "stdout",
       "text": [
        "\n",
        "http://data.shareabouts.org/api/v2/columbia1/datasets/KazData/places"
       ]
      },
      {
       "output_type": "stream",
       "stream": "stdout",
       "text": [
        "\n",
        "http://data.shareabouts.org/api/v2/columbia1/datasets/EllisData/places"
       ]
      },
      {
       "output_type": "stream",
       "stream": "stdout",
       "text": [
        "\n",
        "http://data.shareabouts.org/api/v2/columbia1/datasets/AmyData/places"
       ]
      },
      {
       "output_type": "stream",
       "stream": "stdout",
       "text": [
        "\n",
        "http://data.shareabouts.org/api/v2/smitaki/datasets/cmom/places"
       ]
      },
      {
       "output_type": "stream",
       "stream": "stdout",
       "text": [
        "\n",
        "http://data.shareabouts.org/api/v2/georgiabullen/datasets/coronaplaza/places"
       ]
      },
      {
       "output_type": "stream",
       "stream": "stdout",
       "text": [
        "\n",
        "http://data.shareabouts.org/api/v2/afraint/datasets/overlays/places"
       ]
      },
      {
       "output_type": "stream",
       "stream": "stdout",
       "text": [
        "\n",
        "http://data.shareabouts.org/api/v2/afraint/datasets/crash_testing/places"
       ]
      },
      {
       "output_type": "stream",
       "stream": "stdout",
       "text": [
        "\n",
        "http://data.shareabouts.org/api/v2/openplans/datasets/ped_obstacles/places"
       ]
      },
      {
       "output_type": "stream",
       "stream": "stdout",
       "text": [
        "\n",
        "http://data.shareabouts.org/api/v2/jlally/datasets/test/places"
       ]
      },
      {
       "output_type": "stream",
       "stream": "stdout",
       "text": [
        "\n",
        "http://data.shareabouts.org/api/v2/openplans/datasets/discussions/places"
       ]
      },
      {
       "output_type": "stream",
       "stream": "stdout",
       "text": [
        "\n",
        "http://data.shareabouts.org/api/v2/afraint/datasets/new_york_data/places"
       ]
      },
      {
       "output_type": "stream",
       "stream": "stdout",
       "text": [
        "\n",
        "http://data.shareabouts.org/api/v2/jjones/datasets/ncstatebikes/places"
       ]
      },
      {
       "output_type": "stream",
       "stream": "stdout",
       "text": [
        "\n",
        "http://data.shareabouts.org/api/v2/ManhCB1/datasets/active-rec-spaces/places"
       ]
      },
      {
       "output_type": "stream",
       "stream": "stdout",
       "text": [
        "\n",
        "http://data.shareabouts.org/api/v2/georgiabullen/datasets/mountrainier/places"
       ]
      },
      {
       "output_type": "stream",
       "stream": "stdout",
       "text": [
        "\n",
        "http://data.shareabouts.org/api/v2/apramana/datasets/muni-data/places"
       ]
      },
      {
       "output_type": "stream",
       "stream": "stdout",
       "text": [
        "\n",
        "http://data.shareabouts.org/api/v2/steveleathers/datasets/joy/places"
       ]
      },
      {
       "output_type": "stream",
       "stream": "stdout",
       "text": [
        "\n",
        "http://data.shareabouts.org/api/v2/gtracy/datasets/madisonstartups/places"
       ]
      },
      {
       "output_type": "stream",
       "stream": "stdout",
       "text": [
        "\n",
        "http://data.shareabouts.org/api/v2/openatlanta/datasets/atlart/places"
       ]
      },
      {
       "output_type": "stream",
       "stream": "stdout",
       "text": [
        "\n",
        "http://data.shareabouts.org/api/v2/phlush/datasets/phlush/places"
       ]
      },
      {
       "output_type": "stream",
       "stream": "stdout",
       "text": [
        "\n",
        "http://data.shareabouts.org/api/v2/chekpeds/datasets/benches/places"
       ]
      },
      {
       "output_type": "stream",
       "stream": "stdout",
       "text": [
        "\n",
        "http://data.shareabouts.org/api/v2/openplans/datasets/stamford/places"
       ]
      },
      {
       "output_type": "stream",
       "stream": "stdout",
       "text": [
        "\n",
        "http://data.shareabouts.org/api/v2/jjones/datasets/walkstudy/places"
       ]
      },
      {
       "output_type": "stream",
       "stream": "stdout",
       "text": [
        "\n",
        "http://data.shareabouts.org/api/v2/jjones/datasets/midsouth2/places"
       ]
      },
      {
       "output_type": "stream",
       "stream": "stdout",
       "text": [
        "\n",
        "http://data.shareabouts.org/api/v2/publicinnovation/datasets/sacramento/places"
       ]
      },
      {
       "output_type": "stream",
       "stream": "stdout",
       "text": [
        "\n",
        "http://data.shareabouts.org/api/v2/chekpeds/datasets/intersections/places"
       ]
      },
      {
       "output_type": "stream",
       "stream": "stdout",
       "text": [
        "\n",
        "http://data.shareabouts.org/api/v2/chekpeds/datasets/lessphonebooths/places"
       ]
      },
      {
       "output_type": "stream",
       "stream": "stdout",
       "text": [
        "\n",
        "http://data.shareabouts.org/api/v2/jlally/datasets/mansfield/places"
       ]
      },
      {
       "output_type": "stream",
       "stream": "stdout",
       "text": [
        "\n",
        "http://data.shareabouts.org/api/v2/openplans/datasets/survey-test/places"
       ]
      },
      {
       "output_type": "stream",
       "stream": "stdout",
       "text": [
        "\n",
        "http://data.shareabouts.org/api/v2/jlally/datasets/sustainable-communities/places"
       ]
      },
      {
       "output_type": "stream",
       "stream": "stdout",
       "text": [
        "\n",
        "http://data.shareabouts.org/api/v2/mejackreed/datasets/gatiremap-dev1/places"
       ]
      },
      {
       "output_type": "stream",
       "stream": "stdout",
       "text": [
        "\n",
        "http://data.shareabouts.org/api/v2/atlantabike/datasets/bikeshare/places"
       ]
      },
      {
       "output_type": "stream",
       "stream": "stdout",
       "text": [
        "\n",
        "http://data.shareabouts.org/api/v2/openplans/datasets/testy-mctest/places"
       ]
      },
      {
       "output_type": "stream",
       "stream": "stdout",
       "text": [
        "\n",
        "http://data.shareabouts.org/api/v2/openplans/datasets/n3rd-st/places"
       ]
      },
      {
       "output_type": "stream",
       "stream": "stdout",
       "text": [
        "\n",
        "http://data.shareabouts.org/api/v2/openplans/datasets/testy/places"
       ]
      },
      {
       "output_type": "stream",
       "stream": "stdout",
       "text": [
        "\n",
        "http://data.shareabouts.org/api/v2/openplans/datasets/cb3-survey/places"
       ]
      },
      {
       "output_type": "stream",
       "stream": "stdout",
       "text": [
        "\n",
        "http://data.shareabouts.org/api/v2/openplans/datasets/cb3survey-clone/places"
       ]
      },
      {
       "output_type": "stream",
       "stream": "stdout",
       "text": [
        "\n",
        "http://data.shareabouts.org/api/v2/openplans/datasets/devsg/places"
       ]
      },
      {
       "output_type": "stream",
       "stream": "stdout",
       "text": [
        "\n",
        "http://data.shareabouts.org/api/v2/openplans/datasets/prodsg/places"
       ]
      },
      {
       "output_type": "stream",
       "stream": "stdout",
       "text": [
        "\n",
        "http://data.shareabouts.org/api/v2/openplans/datasets/cb8-survey/places"
       ]
      },
      {
       "output_type": "stream",
       "stream": "stdout",
       "text": [
        "\n",
        "http://data.shareabouts.org/api/v2/jpichot/datasets/betterblockgr/places"
       ]
      },
      {
       "output_type": "stream",
       "stream": "stdout",
       "text": [
        "\n",
        "http://data.shareabouts.org/api/v2/jpichot/datasets/restate/places"
       ]
      },
      {
       "output_type": "stream",
       "stream": "stdout",
       "text": [
        "\n",
        "http://data.shareabouts.org/api/v2/markabraham/datasets/datahaven/places"
       ]
      },
      {
       "output_type": "stream",
       "stream": "stdout",
       "text": [
        "\n",
        "http://data.shareabouts.org/api/v2/HamptonRoads/datasets/Test/places"
       ]
      },
      {
       "output_type": "stream",
       "stream": "stdout",
       "text": [
        "\n",
        "http://data.shareabouts.org/api/v2/publicinnovation/datasets/streetfarm/places"
       ]
      },
      {
       "output_type": "stream",
       "stream": "stdout",
       "text": [
        "\n",
        "http://data.shareabouts.org/api/v2/iturgeon/datasets/letsrecycle/places"
       ]
      },
      {
       "output_type": "stream",
       "stream": "stdout",
       "text": [
        "\n",
        "http://data.shareabouts.org/api/v2/dvandemark/datasets/suncycles/places"
       ]
      },
      {
       "output_type": "stream",
       "stream": "stdout",
       "text": [
        "\n",
        "http://data.shareabouts.org/api/v2/afraint/datasets/twincities/places"
       ]
      },
      {
       "output_type": "stream",
       "stream": "stdout",
       "text": [
        "\n",
        "http://data.shareabouts.org/api/v2/openplans/datasets/cb3-survey-copy/places"
       ]
      },
      {
       "output_type": "stream",
       "stream": "stdout",
       "text": [
        "\n",
        "http://data.shareabouts.org/api/v2/openplans/datasets/cb1-active/places"
       ]
      },
      {
       "output_type": "stream",
       "stream": "stdout",
       "text": [
        "\n",
        "http://data.shareabouts.org/api/v2/weho/datasets/weho/places"
       ]
      },
      {
       "output_type": "stream",
       "stream": "stdout",
       "text": [
        "\n",
        "http://data.shareabouts.org/api/v2/cmlander/datasets/albemarle-survey/places"
       ]
      },
      {
       "output_type": "stream",
       "stream": "stdout",
       "text": [
        "\n",
        "http://data.shareabouts.org/api/v2/jj0hns0n/datasets/realconnect-test/places"
       ]
      },
      {
       "output_type": "stream",
       "stream": "stdout",
       "text": [
        "\n",
        "http://data.shareabouts.org/api/v2/openplans/datasets/ourmiami/places"
       ]
      },
      {
       "output_type": "stream",
       "stream": "stdout",
       "text": [
        "\n",
        "http://data.shareabouts.org/api/v2/walkersq/datasets/walkersq/places"
       ]
      },
      {
       "output_type": "stream",
       "stream": "stdout",
       "text": [
        "\n",
        "http://data.shareabouts.org/api/v2/jj0hns0n/datasets/sdcipcpg/places"
       ]
      },
      {
       "output_type": "stream",
       "stream": "stdout",
       "text": [
        "\n",
        "http://data.shareabouts.org/api/v2/steveleathers/datasets/migshare/places"
       ]
      },
      {
       "output_type": "stream",
       "stream": "stdout",
       "text": [
        "\n",
        "http://data.shareabouts.org/api/v2/bksrts/datasets/ps261/places"
       ]
      },
      {
       "output_type": "stream",
       "stream": "stdout",
       "text": [
        "\n",
        "http://data.shareabouts.org/api/v2/bksrts/datasets/ps261dev/places"
       ]
      },
      {
       "output_type": "stream",
       "stream": "stdout",
       "text": [
        "\n",
        "http://data.shareabouts.org/api/v2/bksrts/datasets/ps84/places"
       ]
      },
      {
       "output_type": "stream",
       "stream": "stdout",
       "text": [
        "\n",
        "http://data.shareabouts.org/api/v2/bksrts/datasets/ps84dev/places"
       ]
      },
      {
       "output_type": "stream",
       "stream": "stdout",
       "text": [
        "\n",
        "http://data.shareabouts.org/api/v2/bksrts/datasets/ps132/places"
       ]
      },
      {
       "output_type": "stream",
       "stream": "stdout",
       "text": [
        "\n",
        "http://data.shareabouts.org/api/v2/bksrts/datasets/ps132dev/places"
       ]
      },
      {
       "output_type": "stream",
       "stream": "stdout",
       "text": [
        "\n",
        "http://data.shareabouts.org/api/v2/bksrts/datasets/ms51/places"
       ]
      },
      {
       "output_type": "stream",
       "stream": "stdout",
       "text": [
        "\n",
        "http://data.shareabouts.org/api/v2/bksrts/datasets/ms51dev/places"
       ]
      },
      {
       "output_type": "stream",
       "stream": "stdout",
       "text": [
        "\n",
        "http://data.shareabouts.org/api/v2/bksrts/datasets/srts/places"
       ]
      },
      {
       "output_type": "stream",
       "stream": "stdout",
       "text": [
        "\n",
        "http://data.shareabouts.org/api/v2/bksrts/datasets/srts-dev/places"
       ]
      },
      {
       "output_type": "stream",
       "stream": "stdout",
       "text": [
        "\n",
        "http://data.shareabouts.org/api/v2/sacramento/datasets/srts/places"
       ]
      },
      {
       "output_type": "stream",
       "stream": "stdout",
       "text": [
        "\n",
        "http://data.shareabouts.org/api/v2/danielmichaelwolf/datasets/UCD-bike-racks/places"
       ]
      },
      {
       "output_type": "stream",
       "stream": "stdout",
       "text": [
        "\n",
        "http://data.shareabouts.org/api/v2/jjones/datasets/richmond-bike/places"
       ]
      },
      {
       "output_type": "stream",
       "stream": "stdout",
       "text": [
        "\n",
        "http://data.shareabouts.org/api/v2/jjones/datasets/moraga/places"
       ]
      },
      {
       "output_type": "stream",
       "stream": "stdout",
       "text": [
        "\n",
        "http://data.shareabouts.org/api/v2/paulmackay/datasets/subways/places"
       ]
      },
      {
       "output_type": "stream",
       "stream": "stdout",
       "text": [
        "\n",
        "http://data.shareabouts.org/api/v2/michelleschmitt/datasets/the-oval/places"
       ]
      },
      {
       "output_type": "stream",
       "stream": "stdout",
       "text": [
        "\n",
        "http://data.shareabouts.org/api/v2/ourmiami/datasets/ourmiami/places"
       ]
      },
      {
       "output_type": "stream",
       "stream": "stdout",
       "text": [
        "\n",
        "http://data.shareabouts.org/api/v2/geosprocket/datasets/placesurvey/places"
       ]
      },
      {
       "output_type": "stream",
       "stream": "stdout",
       "text": [
        "\n",
        "http://data.shareabouts.org/api/v2/salem/datasets/salemsrts/places"
       ]
      },
      {
       "output_type": "stream",
       "stream": "stdout",
       "text": [
        "\n",
        "http://data.shareabouts.org/api/v2/cb6/datasets/cb6capex/places"
       ]
      },
      {
       "output_type": "stream",
       "stream": "stdout",
       "text": [
        "\n",
        "http://data.shareabouts.org/api/v2/linndavis/datasets/ciity/places"
       ]
      },
      {
       "output_type": "stream",
       "stream": "stdout",
       "text": [
        "\n",
        "http://data.shareabouts.org/api/v2/codeformiami/datasets/dwmb/places"
       ]
      },
      {
       "output_type": "stream",
       "stream": "stdout",
       "text": [
        "\n",
        "http://data.shareabouts.org/api/v2/interfacestudio/datasets/macon/places"
       ]
      },
      {
       "output_type": "stream",
       "stream": "stdout",
       "text": [
        "\n",
        "http://data.shareabouts.org/api/v2/geosprocket/datasets/cvrpc5/places"
       ]
      },
      {
       "output_type": "stream",
       "stream": "stdout",
       "text": [
        "\n",
        "http://data.shareabouts.org/api/v2/partnc/datasets/test/places"
       ]
      },
      {
       "output_type": "stream",
       "stream": "stdout",
       "text": [
        "\n",
        "http://data.shareabouts.org/api/v2/openplans/datasets/borotaxis/places"
       ]
      },
      {
       "output_type": "stream",
       "stream": "stdout",
       "text": [
        "\n",
        "http://data.shareabouts.org/api/v2/mejackreed/datasets/test/places"
       ]
      },
      {
       "output_type": "stream",
       "stream": "stdout",
       "text": [
        "\n",
        "http://data.shareabouts.org/api/v2/Eskilstuna/datasets/stadsparken/places"
       ]
      },
      {
       "output_type": "stream",
       "stream": "stdout",
       "text": [
        "\n",
        "http://data.shareabouts.org/api/v2/HamptonRoads/datasets/slugs/places"
       ]
      },
      {
       "output_type": "stream",
       "stream": "stdout",
       "text": [
        "\n",
        "http://data.shareabouts.org/api/v2/nyrising/datasets/re/places"
       ]
      },
      {
       "output_type": "stream",
       "stream": "stdout",
       "text": [
        "\n",
        "http://data.shareabouts.org/api/v2/nyrising/datasets/rh/places"
       ]
      },
      {
       "output_type": "stream",
       "stream": "stdout",
       "text": [
        "\n",
        "http://data.shareabouts.org/api/v2/openplans/datasets/devnyrrh/places"
       ]
      },
      {
       "output_type": "stream",
       "stream": "stdout",
       "text": [
        "\n",
        "http://data.shareabouts.org/api/v2/d39/datasets/d39/places"
       ]
      },
      {
       "output_type": "stream",
       "stream": "stdout",
       "text": [
        "\n",
        "http://data.shareabouts.org/api/v2/d23/datasets/d23/places"
       ]
      },
      {
       "output_type": "stream",
       "stream": "stdout",
       "text": [
        "\n",
        "http://data.shareabouts.org/api/v2/d31/datasets/d31/places"
       ]
      },
      {
       "output_type": "stream",
       "stream": "stdout",
       "text": [
        "\n",
        "http://data.shareabouts.org/api/v2/d33/datasets/d33/places"
       ]
      },
      {
       "output_type": "stream",
       "stream": "stdout",
       "text": [
        "\n",
        "http://data.shareabouts.org/api/v2/d38/datasets/d38/places"
       ]
      },
      {
       "output_type": "stream",
       "stream": "stdout",
       "text": [
        "\n",
        "http://data.shareabouts.org/api/v2/marketmain/datasets/vhmp/places"
       ]
      },
      {
       "output_type": "stream",
       "stream": "stdout",
       "text": [
        "\n",
        "http://data.shareabouts.org/api/v2/d45/datasets/d45/places"
       ]
      },
      {
       "output_type": "stream",
       "stream": "stdout",
       "text": [
        "\n",
        "http://data.shareabouts.org/api/v2/d8/datasets/d8/places"
       ]
      },
      {
       "output_type": "stream",
       "stream": "stdout",
       "text": [
        "\n",
        "http://data.shareabouts.org/api/v2/d44/datasets/d44/places"
       ]
      },
      {
       "output_type": "stream",
       "stream": "stdout",
       "text": [
        "\n",
        "http://data.shareabouts.org/api/v2/openplans/datasets/devpbnyc/places"
       ]
      },
      {
       "output_type": "stream",
       "stream": "stdout",
       "text": [
        "\n",
        "http://data.shareabouts.org/api/v2/jlally/datasets/eastcorridor/places"
       ]
      },
      {
       "output_type": "stream",
       "stream": "stdout",
       "text": [
        "\n",
        "http://data.shareabouts.org/api/v2/spjika/datasets/OSNI/places"
       ]
      },
      {
       "output_type": "stream",
       "stream": "stdout",
       "text": [
        "\n",
        "http://data.shareabouts.org/api/v2/dksassociates/datasets/clatsop/places"
       ]
      },
      {
       "output_type": "stream",
       "stream": "stdout",
       "text": [
        "\n",
        "http://data.shareabouts.org/api/v2/nyrising/datasets/rhtest/places"
       ]
      },
      {
       "output_type": "stream",
       "stream": "stdout",
       "text": [
        "\n",
        "http://data.shareabouts.org/api/v2/jjones/datasets/nwarkansas/places"
       ]
      },
      {
       "output_type": "stream",
       "stream": "stdout",
       "text": [
        "\n",
        "http://data.shareabouts.org/api/v2/nyrising/datasets/rh2/places"
       ]
      },
      {
       "output_type": "stream",
       "stream": "stdout",
       "text": [
        "\n",
        "http://data.shareabouts.org/api/v2/nyrising/datasets/rh3/places"
       ]
      },
      {
       "output_type": "stream",
       "stream": "stdout",
       "text": [
        "\n",
        "http://data.shareabouts.org/api/v2/nyrising/datasets/rh4/places"
       ]
      },
      {
       "output_type": "stream",
       "stream": "stdout",
       "text": [
        "\n",
        "http://data.shareabouts.org/api/v2/openplans/datasets/polydemo/places"
       ]
      },
      {
       "output_type": "stream",
       "stream": "stdout",
       "text": [
        "\n",
        "http://data.shareabouts.org/api/v2/Eskilstuna/datasets/tyck_tiller/places"
       ]
      },
      {
       "output_type": "stream",
       "stream": "stdout",
       "text": [
        "\n",
        "http://data.shareabouts.org/api/v2/nyrising/datasets/bp/places"
       ]
      },
      {
       "output_type": "stream",
       "stream": "stdout",
       "text": [
        "\n",
        "http://data.shareabouts.org/api/v2/nyrising/datasets/lm/places"
       ]
      },
      {
       "output_type": "stream",
       "stream": "stdout",
       "text": [
        "\n",
        "http://data.shareabouts.org/api/v2/nyrising/datasets/rw/places"
       ]
      },
      {
       "output_type": "stream",
       "stream": "stdout",
       "text": [
        "\n",
        "http://data.shareabouts.org/api/v2/jjones/datasets/wfubikeped/places"
       ]
      },
      {
       "output_type": "stream",
       "stream": "stdout",
       "text": [
        "\n",
        "http://data.shareabouts.org/api/v2/d32/datasets/d32/places"
       ]
      },
      {
       "output_type": "stream",
       "stream": "stdout",
       "text": [
        "\n",
        "http://data.shareabouts.org/api/v2/nyrising/datasets/hb-full/places"
       ]
      },
      {
       "output_type": "stream",
       "stream": "stdout",
       "text": [
        "\n",
        "http://data.shareabouts.org/api/v2/openplans/datasets/devnyrhb/places"
       ]
      },
      {
       "output_type": "stream",
       "stream": "stdout",
       "text": [
        "\n",
        "http://data.shareabouts.org/api/v2/borotaxis/datasets/taxistands/places"
       ]
      },
      {
       "output_type": "stream",
       "stream": "stdout",
       "text": [
        "\n",
        "http://data.shareabouts.org/api/v2/ManhCB6/datasets/mcb6capex/places"
       ]
      },
      {
       "output_type": "stream",
       "stream": "stdout",
       "text": [
        "\n",
        "http://data.shareabouts.org/api/v2/mcb7/datasets/mcb7capex/places"
       ]
      },
      {
       "output_type": "stream",
       "stream": "stdout",
       "text": [
        "\n",
        "http://data.shareabouts.org/api/v2/borotaxis/datasets/test/places"
       ]
      },
      {
       "output_type": "stream",
       "stream": "stdout",
       "text": [
        "\n",
        "http://data.shareabouts.org/api/v2/openplans/datasets/devdivvy/places"
       ]
      },
      {
       "output_type": "stream",
       "stream": "stdout",
       "text": [
        "\n",
        "http://data.shareabouts.org/api/v2/makebrooklynsafer/datasets/kross2013/places"
       ]
      },
      {
       "output_type": "stream",
       "stream": "stdout",
       "text": [
        "\n",
        "http://data.shareabouts.org/api/v2/tchu/datasets/mountain-view/places"
       ]
      },
      {
       "output_type": "stream",
       "stream": "stdout",
       "text": [
        "\n",
        "http://data.shareabouts.org/api/v2/demo-user/datasets/ui-refresh-testing/places"
       ]
      },
      {
       "output_type": "stream",
       "stream": "stdout",
       "text": [
        "\n",
        "http://data.shareabouts.org/api/v2/columbia1/datasets/CarolineData/places"
       ]
      },
      {
       "output_type": "stream",
       "stream": "stdout",
       "text": [
        "\n",
        "http://data.shareabouts.org/api/v2/dksassociates/datasets/lanecountytsp/places"
       ]
      },
      {
       "output_type": "stream",
       "stream": "stdout",
       "text": [
        "\n",
        "http://data.shareabouts.org/api/v2/jjones/datasets/version1/places"
       ]
      },
      {
       "output_type": "stream",
       "stream": "stdout",
       "text": [
        "\n",
        "http://data.shareabouts.org/api/v2/jesperfrant/datasets/fieldplacements/places"
       ]
      },
      {
       "output_type": "stream",
       "stream": "stdout",
       "text": [
        "\n",
        "http://data.shareabouts.org/api/v2/mtouzin/datasets/cesty/places"
       ]
      },
      {
       "output_type": "stream",
       "stream": "stdout",
       "text": [
        "\n",
        "http://data.shareabouts.org/api/v2/jjones/datasets/moragard/places"
       ]
      },
      {
       "output_type": "stream",
       "stream": "stdout",
       "text": [
        "\n",
        "http://data.shareabouts.org/api/v2/tchu/datasets/mountainview/places"
       ]
      },
      {
       "output_type": "stream",
       "stream": "stdout",
       "text": [
        "\n",
        "http://data.shareabouts.org/api/v2/divvy/datasets/divvy-all-data/places"
       ]
      },
      {
       "output_type": "stream",
       "stream": "stdout",
       "text": [
        "\n",
        "http://data.shareabouts.org/api/v2/admin/datasets/test/places"
       ]
      },
      {
       "output_type": "stream",
       "stream": "stdout",
       "text": [
        "\n",
        "http://data.shareabouts.org/api/v2/geoprism/datasets/localplan/places"
       ]
      },
      {
       "output_type": "stream",
       "stream": "stdout",
       "text": [
        "\n",
        "http://data.shareabouts.org/api/v2/ourmiami/datasets/psc2014/places"
       ]
      },
      {
       "output_type": "stream",
       "stream": "stdout",
       "text": [
        "\n",
        "http://data.shareabouts.org/api/v2/planbox-dev/datasets/test-slug/places"
       ]
      },
      {
       "output_type": "stream",
       "stream": "stdout",
       "text": [
        "\n",
        "http://data.shareabouts.org/api/v2/planbox-dev/datasets/test-slug2/places"
       ]
      },
      {
       "output_type": "stream",
       "stream": "stdout",
       "text": [
        "\n",
        "http://data.shareabouts.org/api/v2/planbox-dev/datasets/test-slug3/places"
       ]
      },
      {
       "output_type": "stream",
       "stream": "stdout",
       "text": [
        "\n",
        "http://data.shareabouts.org/api/v2/planbox-dev/datasets/test-slug5/places"
       ]
      },
      {
       "output_type": "stream",
       "stream": "stdout",
       "text": [
        "\n",
        "http://data.shareabouts.org/api/v2/planbox-dev/datasets/test-slug6/places"
       ]
      },
      {
       "output_type": "stream",
       "stream": "stdout",
       "text": [
        "\n",
        "http://data.shareabouts.org/api/v2/planbox-dev/datasets/atogle-hi-hi/places"
       ]
      },
      {
       "output_type": "stream",
       "stream": "stdout",
       "text": [
        "\n",
        "http://data.shareabouts.org/api/v2/nyrising/datasets/hb/places"
       ]
      },
      {
       "output_type": "stream",
       "stream": "stdout",
       "text": [
        "\n",
        "http://data.shareabouts.org/api/v2/mjumbewu/datasets/this-is-a-test/places"
       ]
      },
      {
       "output_type": "stream",
       "stream": "stdout",
       "text": [
        "\n",
        "http://data.shareabouts.org/api/v2/planbox-dev/datasets/mpoe-my-new-test-project/places"
       ]
      },
      {
       "output_type": "stream",
       "stream": "stdout",
       "text": [
        "\n",
        "http://data.shareabouts.org/api/v2/planbox-dev/datasets/mpoe-undefined/places"
       ]
      },
      {
       "output_type": "stream",
       "stream": "stdout",
       "text": [
        "\n",
        "http://data.shareabouts.org/api/v2/planbox-dev/datasets/atogle-test-again/places"
       ]
      },
      {
       "output_type": "stream",
       "stream": "stdout",
       "text": [
        "\n",
        "http://data.shareabouts.org/api/v2/planbox-dev/datasets/mpoe-my-title/places"
       ]
      },
      {
       "output_type": "stream",
       "stream": "stdout",
       "text": [
        "\n",
        "http://data.shareabouts.org/api/v2/planbox-dev/datasets/atogle-map/places"
       ]
      },
      {
       "output_type": "stream",
       "stream": "stdout",
       "text": [
        "\n",
        "http://data.shareabouts.org/api/v2/planbox/datasets/mpoe-map/places"
       ]
      },
      {
       "output_type": "stream",
       "stream": "stdout",
       "text": [
        "\n",
        "http://data.shareabouts.org/api/v2/planbox/datasets/frank-map/places"
       ]
      },
      {
       "output_type": "stream",
       "stream": "stdout",
       "text": [
        "\n",
        "http://data.shareabouts.org/api/v2/planbox-dev/datasets/mpoe-title/places"
       ]
      },
      {
       "output_type": "stream",
       "stream": "stdout",
       "text": [
        "\n",
        "http://data.shareabouts.org/api/v2/planbox/datasets/One-road-conditions-for-bikers/places"
       ]
      },
      {
       "output_type": "stream",
       "stream": "stdout",
       "text": [
        "\n",
        "http://data.shareabouts.org/api/v2/planbox/datasets/ClickMapPlan-clickmapplan/places"
       ]
      },
      {
       "output_type": "stream",
       "stream": "stdout",
       "text": [
        "\n",
        "http://data.shareabouts.org/api/v2/planbox/datasets/ptraughber-visionzerosf/places"
       ]
      },
      {
       "output_type": "stream",
       "stream": "stdout",
       "text": [
        "\n",
        "http://data.shareabouts.org/api/v2/planbox/datasets/llkats-sf-bike-map/places"
       ]
      },
      {
       "output_type": "stream",
       "stream": "stdout",
       "text": [
        "\n",
        "http://data.shareabouts.org/api/v2/planbox/datasets/ktown-comprehensive-knightstown-plan/places"
       ]
      },
      {
       "output_type": "stream",
       "stream": "stdout",
       "text": [
        "\n",
        "http://data.shareabouts.org/api/v2/planbox/datasets/trailnet-kirkwood-pedestrian-and-bicycle-master-plan/places"
       ]
      },
      {
       "output_type": "stream",
       "stream": "stdout",
       "text": [
        "\n",
        "http://data.shareabouts.org/api/v2/planbox/datasets/tkrolik-reservoir-hill-tree-canopy-project/places"
       ]
      },
      {
       "output_type": "stream",
       "stream": "stdout",
       "text": [
        "\n",
        "http://data.shareabouts.org/api/v2/planbox/datasets/alisoni-bed-stuy-history/places"
       ]
      },
      {
       "output_type": "stream",
       "stream": "stdout",
       "text": [
        "\n",
        "http://data.shareabouts.org/api/v2/planbox/datasets/gwdtest-key-connections/places"
       ]
      },
      {
       "output_type": "stream",
       "stream": "stdout",
       "text": [
        "\n",
        "http://data.shareabouts.org/api/v2/planbox/datasets/cityofjerseycity-jersey-city-streetscape/places"
       ]
      },
      {
       "output_type": "stream",
       "stream": "stdout",
       "text": [
        "\n",
        "http://data.shareabouts.org/api/v2/planbox/datasets/funbunko-brooklyn-potholes/places"
       ]
      },
      {
       "output_type": "stream",
       "stream": "stdout",
       "text": [
        "\n",
        "http://data.shareabouts.org/api/v2/planbox/datasets/SPA-we-heart-parks/places"
       ]
      },
      {
       "output_type": "stream",
       "stream": "stdout",
       "text": [
        "\n",
        "http://data.shareabouts.org/api/v2/planbox/datasets/JCinnamon-test/places"
       ]
      },
      {
       "output_type": "stream",
       "stream": "stdout",
       "text": [
        "\n",
        "http://data.shareabouts.org/api/v2/planbox/datasets/zonderland-story-catcher/places"
       ]
      },
      {
       "output_type": "stream",
       "stream": "stdout",
       "text": [
        "\n",
        "http://data.shareabouts.org/api/v2/planbox/datasets/bmdptraining-belize-municipal-development-plans/places"
       ]
      },
      {
       "output_type": "stream",
       "stream": "stdout",
       "text": [
        "\n",
        "http://data.shareabouts.org/api/v2/planbox/datasets/abhiram-socal/places"
       ]
      },
      {
       "output_type": "stream",
       "stream": "stdout",
       "text": [
        "\n",
        "http://data.shareabouts.org/api/v2/planbox/datasets/Michaurel-diagnostic-territorial-de-xville/places"
       ]
      },
      {
       "output_type": "stream",
       "stream": "stdout",
       "text": [
        "\n",
        "http://data.shareabouts.org/api/v2/planbox/datasets/socki4hou-houston-crowd-sourcing-map-of-infrastructure-improvements-trouble-zones-and-cyclingped-accident-zones/places"
       ]
      },
      {
       "output_type": "stream",
       "stream": "stdout",
       "text": [
        "\n",
        "http://data.shareabouts.org/api/v2/planbox/datasets/MaryAlexandra-community-education-center/places"
       ]
      },
      {
       "output_type": "stream",
       "stream": "stdout",
       "text": [
        "\n",
        "http://data.shareabouts.org/api/v2/ourmiami/datasets/results-test/places"
       ]
      },
      {
       "output_type": "stream",
       "stream": "stdout",
       "text": [
        "\n",
        "http://data.shareabouts.org/api/v2/planbox/datasets/ssa27-lakeview-public-way-improvements/places"
       ]
      },
      {
       "output_type": "stream",
       "stream": "stdout",
       "text": [
        "\n",
        "http://data.shareabouts.org/api/v2/planbox/datasets/kevin-test-projekt-deutschland/places"
       ]
      },
      {
       "output_type": "stream",
       "stream": "stdout",
       "text": [
        "\n",
        "http://data.shareabouts.org/api/v2/planbox-dev/datasets/visionzero-vision-zero/places"
       ]
      },
      {
       "output_type": "stream",
       "stream": "stdout",
       "text": [
        "\n",
        "http://data.shareabouts.org/api/v2/planbox/datasets/JeffersonvillePlanning-bicycle-route-implemenation/places"
       ]
      },
      {
       "output_type": "stream",
       "stream": "stdout",
       "text": [
        "\n",
        "http://data.shareabouts.org/api/v2/planbox/datasets/Grillbag2000-pattaya-cityincity/places"
       ]
      },
      {
       "output_type": "stream",
       "stream": "stdout",
       "text": [
        "\n",
        "http://data.shareabouts.org/api/v2/planbox/datasets/serg-final/places"
       ]
      },
      {
       "output_type": "stream",
       "stream": "stdout",
       "text": [
        "\n",
        "http://data.shareabouts.org/api/v2/planbox/datasets/Bomaderry-revitalising-bomaderrys-cbd/places"
       ]
      },
      {
       "output_type": "stream",
       "stream": "stdout",
       "text": [
        "\n",
        "http://data.shareabouts.org/api/v2/planbox/datasets/ChaosAndCornbread-mapping-memories-of-atlantas-residents/places"
       ]
      },
      {
       "output_type": "stream",
       "stream": "stdout",
       "text": [
        "\n",
        "http://data.shareabouts.org/api/v2/planbox/datasets/rubywhite-2014-targets/places"
       ]
      },
      {
       "output_type": "stream",
       "stream": "stdout",
       "text": [
        "\n",
        "http://data.shareabouts.org/api/v2/planbox/datasets/CharlestonCountyPlanning-historic-preservation-committee/places"
       ]
      },
      {
       "output_type": "stream",
       "stream": "stdout",
       "text": [
        "\n",
        "http://data.shareabouts.org/api/v2/planbox/datasets/ChesterAdapt-city-of-chester-resiliency-planning/places"
       ]
      },
      {
       "output_type": "stream",
       "stream": "stdout",
       "text": [
        "\n",
        "http://data.shareabouts.org/api/v2/planbox/datasets/dexterslu-mostly-fun/places"
       ]
      },
      {
       "output_type": "stream",
       "stream": "stdout",
       "text": [
        "\n",
        "http://data.shareabouts.org/api/v2/mjumbewu/datasets/philly-bike-share/places"
       ]
      },
      {
       "output_type": "stream",
       "stream": "stdout",
       "text": [
        "\n",
        "http://data.shareabouts.org/api/v2/planbox/datasets/IFSIGNCODE-idaho-falls-sign-code-update/places"
       ]
      },
      {
       "output_type": "stream",
       "stream": "stdout",
       "text": [
        "\n",
        "http://data.shareabouts.org/api/v2/planbox/datasets/emilyegan-livable-broadway-gary-in/places"
       ]
      },
      {
       "output_type": "stream",
       "stream": "stdout",
       "text": [
        "\n",
        "http://data.shareabouts.org/api/v2/planbox/datasets/mpoe-my-new-project/places"
       ]
      },
      {
       "output_type": "stream",
       "stream": "stdout",
       "text": [
        "\n",
        "http://data.shareabouts.org/api/v2/planbox/datasets/brunomotta26-melhorando-minha-cidade/places"
       ]
      },
      {
       "output_type": "stream",
       "stream": "stdout",
       "text": [
        "\n",
        "http://data.shareabouts.org/api/v2/planbox/datasets/Ronald-zoning-in-narberth/places"
       ]
      },
      {
       "output_type": "stream",
       "stream": "stdout",
       "text": [
        "\n",
        "http://data.shareabouts.org/api/v2/planbox/datasets/nightdaggar-test-project-x/places"
       ]
      },
      {
       "output_type": "stream",
       "stream": "stdout",
       "text": [
        "\n",
        "http://data.shareabouts.org/api/v2/planbox/datasets/khoven-renegade-planners-collective/places"
       ]
      },
      {
       "output_type": "stream",
       "stream": "stdout",
       "text": [
        "\n",
        "http://data.shareabouts.org/api/v2/planbox/datasets/ernesto200-mi-ciudad-9-de-julio/places"
       ]
      },
      {
       "output_type": "stream",
       "stream": "stdout",
       "text": [
        "\n",
        "http://data.shareabouts.org/api/v2/geoprism/datasets/geoprism-data/places"
       ]
      },
      {
       "output_type": "stream",
       "stream": "stdout",
       "text": [
        "\n",
        "http://data.shareabouts.org/api/v2/rkaranas/datasets/rkaranas-data/places"
       ]
      },
      {
       "output_type": "stream",
       "stream": "stdout",
       "text": [
        "\n",
        "http://data.shareabouts.org/api/v2/peoplepower/datasets/peoplepower-data/places"
       ]
      },
      {
       "output_type": "stream",
       "stream": "stdout",
       "text": [
        "\n",
        "http://data.shareabouts.org/api/v2/planbox-dev/datasets/test-slug4/places"
       ]
      },
      {
       "output_type": "stream",
       "stream": "stdout",
       "text": [
        "\n",
        "http://data.shareabouts.org/api/v2/admin/datasets/vz-dev/places"
       ]
      },
      {
       "output_type": "stream",
       "stream": "stdout",
       "text": [
        "\n",
        "http://data.shareabouts.org/api/v2/divvy/datasets/divvy/places"
       ]
      },
      {
       "output_type": "stream",
       "stream": "stdout",
       "text": [
        "\n",
        "http://data.shareabouts.org/api/v2/tektonomastics/datasets/buildings/places"
       ]
      },
      {
       "output_type": "stream",
       "stream": "stdout",
       "text": [
        "\n",
        "http://data.shareabouts.org/api/v2/nycdot/datasets/vz/places"
       ]
      },
      {
       "output_type": "stream",
       "stream": "stdout",
       "text": [
        "\n",
        "http://data.shareabouts.org/api/v2/kevinvanlierop/datasets/kevinvanlierop-data/places"
       ]
      },
      {
       "output_type": "stream",
       "stream": "stdout",
       "text": [
        "\n",
        "http://data.shareabouts.org/api/v2/planbox/datasets/jjsoares-bopcor/places"
       ]
      },
      {
       "output_type": "stream",
       "stream": "stdout",
       "text": [
        "\n",
        "http://data.shareabouts.org/api/v2/planbox/datasets/hstclair-massachusetts-food-system-plan/places"
       ]
      },
      {
       "output_type": "stream",
       "stream": "stdout",
       "text": [
        "\n",
        "http://data.shareabouts.org/api/v2/planbox/datasets/krutz27-infectious-equine-outbreaks/places"
       ]
      },
      {
       "output_type": "stream",
       "stream": "stdout",
       "text": [
        "\n",
        "http://data.shareabouts.org/api/v2/planbox/datasets/pamsoto-public-uses-of-the-bronx-river/places"
       ]
      },
      {
       "output_type": "stream",
       "stream": "stdout",
       "text": [
        "\n",
        "http://data.shareabouts.org/api/v2/planbox/datasets/RonB-crooswijkerzand/places"
       ]
      },
      {
       "output_type": "stream",
       "stream": "stdout",
       "text": [
        "\n",
        "http://data.shareabouts.org/api/v2/planbox/datasets/ignacioabe-santiago-pedaleable/places"
       ]
      },
      {
       "output_type": "stream",
       "stream": "stdout",
       "text": [
        "\n",
        "http://data.shareabouts.org/api/v2/ioby/datasets/memphis-dev/places"
       ]
      },
      {
       "output_type": "stream",
       "stream": "stdout",
       "text": [
        "\n",
        "http://data.shareabouts.org/api/v2/planbox/datasets/Enzello-city-heights-community-planning/places"
       ]
      },
      {
       "output_type": "stream",
       "stream": "stdout",
       "text": [
        "\n",
        "http://data.shareabouts.org/api/v2/planbox/datasets/Long_Term_Care_CIA-long-term-care-consumer-intelligence-agency/places"
       ]
      },
      {
       "output_type": "stream",
       "stream": "stdout",
       "text": [
        "\n",
        "http://data.shareabouts.org/api/v2/planbox/datasets/Stanislav-velostancia/places"
       ]
      },
      {
       "output_type": "stream",
       "stream": "stdout",
       "text": [
        "\n",
        "http://data.shareabouts.org/api/v2/planbox/datasets/BoWilliams-swope-area-plan/places"
       ]
      },
      {
       "output_type": "stream",
       "stream": "stdout",
       "text": [
        "\n",
        "http://data.shareabouts.org/api/v2/planbox/datasets/Plippens-welcome-to-the-portland-master-plan-asset-mapping-exercise/places"
       ]
      },
      {
       "output_type": "stream",
       "stream": "stdout",
       "text": [
        "\n",
        "http://data.shareabouts.org/api/v2/planbox/datasets/Kamesg-open-source-government/places"
       ]
      },
      {
       "output_type": "stream",
       "stream": "stdout",
       "text": [
        "\n",
        "http://data.shareabouts.org/api/v2/planbox/datasets/AirMarty-projettest/places"
       ]
      },
      {
       "output_type": "stream",
       "stream": "stdout",
       "text": [
        "\n",
        "http://data.shareabouts.org/api/v2/planbox/datasets/raction-qc-mississippi-river/places"
       ]
      },
      {
       "output_type": "stream",
       "stream": "stdout",
       "text": [
        "\n",
        "http://data.shareabouts.org/api/v2/planbox/datasets/tedritzer-teds-project/places"
       ]
      },
      {
       "output_type": "stream",
       "stream": "stdout",
       "text": [
        "\n",
        "http://data.shareabouts.org/api/v2/planbox/datasets/zuccabalucca-familia/places"
       ]
      },
      {
       "output_type": "stream",
       "stream": "stdout",
       "text": [
        "\n",
        "http://data.shareabouts.org/api/v2/planbox/datasets/frank-title/places"
       ]
      },
      {
       "output_type": "stream",
       "stream": "stdout",
       "text": [
        "\n",
        "http://data.shareabouts.org/api/v2/planbox/datasets/marksatterfield-find-soup/places"
       ]
      },
      {
       "output_type": "stream",
       "stream": "stdout",
       "text": [
        "\n",
        "http://data.shareabouts.org/api/v2/planbox/datasets/sferone-knish/places"
       ]
      },
      {
       "output_type": "stream",
       "stream": "stdout",
       "text": [
        "\n",
        "http://data.shareabouts.org/api/v2/planbox/datasets/nepanode-nepanode/places"
       ]
      },
      {
       "output_type": "stream",
       "stream": "stdout",
       "text": [
        "\n",
        "http://data.shareabouts.org/api/v2/planbox/datasets/staffor-mapping-memory-of-place/places"
       ]
      },
      {
       "output_type": "stream",
       "stream": "stdout",
       "text": [
        "\n",
        "http://data.shareabouts.org/api/v2/planbox/datasets/fcorsi-test/places"
       ]
      },
      {
       "output_type": "stream",
       "stream": "stdout",
       "text": [
        "\n",
        "http://data.shareabouts.org/api/v2/planbox/datasets/yamaha-bikewitnessorg/places"
       ]
      },
      {
       "output_type": "stream",
       "stream": "stdout",
       "text": [
        "\n",
        "http://data.shareabouts.org/api/v2/planbox/datasets/KTUAplanner-santa-ana-downtown-transit-zone-complete-streets-plan/places"
       ]
      },
      {
       "output_type": "stream",
       "stream": "stdout",
       "text": [
        "\n",
        "http://data.shareabouts.org/api/v2/planbox/datasets/Alain-test/places"
       ]
      },
      {
       "output_type": "stream",
       "stream": "stdout",
       "text": [
        "\n",
        "http://data.shareabouts.org/api/v2/planbox/datasets/jtehrani-feature-list-test/places"
       ]
      },
      {
       "output_type": "stream",
       "stream": "stdout",
       "text": [
        "\n",
        "http://data.shareabouts.org/api/v2/planbox/datasets/knish-knish-map/places"
       ]
      },
      {
       "output_type": "stream",
       "stream": "stdout",
       "text": [
        "\n",
        "http://data.shareabouts.org/api/v2/planbox/datasets/hgutherl-conifer285-corridor-area-plan/places"
       ]
      },
      {
       "output_type": "stream",
       "stream": "stdout",
       "text": [
        "\n",
        "http://data.shareabouts.org/api/v2/planbox/datasets/Brookdaleestates-park-improvements/places"
       ]
      },
      {
       "output_type": "stream",
       "stream": "stdout",
       "text": [
        "\n",
        "http://data.shareabouts.org/api/v2/planbox/datasets/playtoride-barcelona-city-challenge/places"
       ]
      },
      {
       "output_type": "stream",
       "stream": "stdout",
       "text": [
        "\n",
        "http://data.shareabouts.org/api/v2/planbox/datasets/claro81-planicipe-planification-participative/places"
       ]
      },
      {
       "output_type": "stream",
       "stream": "stdout",
       "text": [
        "\n",
        "http://data.shareabouts.org/api/v2/planbox/datasets/Stanislav1-/places"
       ]
      },
      {
       "output_type": "stream",
       "stream": "stdout",
       "text": [
        "\n",
        "http://data.shareabouts.org/api/v2/planbox/datasets/stjefin-valanghe/places"
       ]
      },
      {
       "output_type": "stream",
       "stream": "stdout",
       "text": [
        "\n",
        "http://data.shareabouts.org/api/v2/planbox/datasets/VSB-vsz/places"
       ]
      },
      {
       "output_type": "stream",
       "stream": "stdout",
       "text": [
        "\n",
        "http://data.shareabouts.org/api/v2/planbox/datasets/lenninibarra-prueba-conecta2/places"
       ]
      },
      {
       "output_type": "stream",
       "stream": "stdout",
       "text": [
        "\n",
        "http://data.shareabouts.org/api/v2/simeonnedkov/datasets/simeonnedkov/places"
       ]
      },
      {
       "output_type": "stream",
       "stream": "stdout",
       "text": [
        "\n",
        "http://data.shareabouts.org/api/v2/lvartani/datasets/tbilisi/places"
       ]
      },
      {
       "output_type": "stream",
       "stream": "stdout",
       "text": [
        "\n",
        "http://data.shareabouts.org/api/v2/planbox/datasets/EMueller-eastlake-community-plans/places"
       ]
      },
      {
       "output_type": "stream",
       "stream": "stdout",
       "text": [
        "\n",
        "http://data.shareabouts.org/api/v2/planbox/datasets/jridot-draft-iowa-park-and-ride-plan/places"
       ]
      },
      {
       "output_type": "stream",
       "stream": "stdout",
       "text": [
        "\n",
        "http://data.shareabouts.org/api/v2/planbox/datasets/reveng-pedestrian-and-cyclist-improvements/places"
       ]
      },
      {
       "output_type": "stream",
       "stream": "stdout",
       "text": [
        "\n",
        "http://data.shareabouts.org/api/v2/planbox/datasets/camilolozano-conecta2/places"
       ]
      },
      {
       "output_type": "stream",
       "stream": "stdout",
       "text": [
        "\n",
        "http://data.shareabouts.org/api/v2/planbox/datasets/Henrique-projeto-teste/places"
       ]
      },
      {
       "output_type": "stream",
       "stream": "stdout",
       "text": [
        "\n",
        "http://data.shareabouts.org/api/v2/planbox/datasets/openopenopen-openopenopen/places"
       ]
      },
      {
       "output_type": "stream",
       "stream": "stdout",
       "text": [
        "\n",
        "http://data.shareabouts.org/api/v2/planbox/datasets/jldawkins-activating-vacant-spaces-raleigh/places"
       ]
      },
      {
       "output_type": "stream",
       "stream": "stdout",
       "text": [
        "\n",
        "http://data.shareabouts.org/api/v2/rex/datasets/louisville/places"
       ]
      },
      {
       "output_type": "stream",
       "stream": "stdout",
       "text": [
        "\n",
        "http://data.shareabouts.org/api/v2/planbox/datasets/jsisson65-newton-villages/places"
       ]
      },
      {
       "output_type": "stream",
       "stream": "stdout",
       "text": [
        "\n",
        "http://data.shareabouts.org/api/v2/planbox/datasets/jma1966-safe-streets-2/places"
       ]
      },
      {
       "output_type": "stream",
       "stream": "stdout",
       "text": [
        "\n",
        "http://data.shareabouts.org/api/v2/planbox/datasets/GrandRapids-grfwd/places"
       ]
      },
      {
       "output_type": "stream",
       "stream": "stdout",
       "text": [
        "\n",
        "http://data.shareabouts.org/api/v2/planbox/datasets/testmetest-duwamish-river-superfund-cleanup/places"
       ]
      },
      {
       "output_type": "stream",
       "stream": "stdout",
       "text": [
        "\n",
        "http://data.shareabouts.org/api/v2/planbox/datasets/YourVoice-chino-bike-and-pedestrian-master-plan/places"
       ]
      },
      {
       "output_type": "stream",
       "stream": "stdout",
       "text": [
        "\n",
        "http://data.shareabouts.org/api/v2/planbox/datasets/iledefrance-carticipe/places"
       ]
      },
      {
       "output_type": "stream",
       "stream": "stdout",
       "text": [
        "\n",
        "http://data.shareabouts.org/api/v2/planbox/datasets/just_testing-bicicletas/places"
       ]
      },
      {
       "output_type": "stream",
       "stream": "stdout",
       "text": [
        "\n",
        "http://data.shareabouts.org/api/v2/planbox/datasets/dhaier-milemesh/places"
       ]
      },
      {
       "output_type": "stream",
       "stream": "stdout",
       "text": [
        "\n",
        "http://data.shareabouts.org/api/v2/interfacestudio/datasets/grfwd/places"
       ]
      },
      {
       "output_type": "stream",
       "stream": "stdout",
       "text": [
        "\n",
        "http://data.shareabouts.org/api/v2/interfacestudio/datasets/grfwd-dev/places"
       ]
      },
      {
       "output_type": "stream",
       "stream": "stdout",
       "text": [
        "\n",
        "http://data.shareabouts.org/api/v2/planbox/datasets/nicoleestevez-apa-great-places-fl/places"
       ]
      },
      {
       "output_type": "stream",
       "stream": "stdout",
       "text": [
        "\n",
        "http://data.shareabouts.org/api/v2/planbox/datasets/rachel2428-armstrong-mill-neighborhood/places"
       ]
      },
      {
       "output_type": "stream",
       "stream": "stdout",
       "text": [
        "\n",
        "http://data.shareabouts.org/api/v2/planbox/datasets/Aisey-bike-parking/places"
       ]
      },
      {
       "output_type": "stream",
       "stream": "stdout",
       "text": [
        "\n",
        "http://data.shareabouts.org/api/v2/planbox/datasets/rallemann-mountainbike-fallen/places"
       ]
      },
      {
       "output_type": "stream",
       "stream": "stdout",
       "text": [
        "\n",
        "http://data.shareabouts.org/api/v2/planbox/datasets/atogle-lorem-all-the-ipsums/places"
       ]
      },
      {
       "output_type": "stream",
       "stream": "stdout",
       "text": [
        "\n",
        "http://data.shareabouts.org/api/v2/planbox-dev/datasets/atogle-shareabouts2/places"
       ]
      },
      {
       "output_type": "stream",
       "stream": "stdout",
       "text": [
        "\n",
        "http://data.shareabouts.org/api/v2/planbox-dev/datasets/atogle-sharebouts/places"
       ]
      },
      {
       "output_type": "stream",
       "stream": "stdout",
       "text": [
        "\n",
        "http://data.shareabouts.org/api/v2/alta/datasets/alta-data/places"
       ]
      },
      {
       "output_type": "stream",
       "stream": "stdout",
       "text": [
        "\n",
        "http://data.shareabouts.org/api/v2/planbox-dev/datasets/atogle-jlksdjkasdfkjfds/places"
       ]
      },
      {
       "output_type": "stream",
       "stream": "stdout",
       "text": [
        "\n",
        "http://data.shareabouts.org/api/v2/jjones/datasets/evansville/places"
       ]
      },
      {
       "output_type": "stream",
       "stream": "stdout",
       "text": [
        "\n",
        "http://data.shareabouts.org/api/v2/planbox/datasets/acochrandemo-test-project/places"
       ]
      },
      {
       "output_type": "stream",
       "stream": "stdout",
       "text": [
        "\n",
        "http://data.shareabouts.org/api/v2/stoss/datasets/grfwd-river/places"
       ]
      },
      {
       "output_type": "stream",
       "stream": "stdout",
       "text": [
        "\n",
        "http://data.shareabouts.org/api/v2/planbox/datasets/wboykinm-traffic-abatement-in-burlingtons-south-end/places"
       ]
      },
      {
       "output_type": "stream",
       "stream": "stdout",
       "text": [
        "\n",
        "http://data.shareabouts.org/api/v2/planbox/datasets/EBI-ebi-screenline-survey/places"
       ]
      },
      {
       "output_type": "stream",
       "stream": "stdout",
       "text": [
        "\n",
        "http://data.shareabouts.org/api/v2/planbox/datasets/ryanekistics-at/places"
       ]
      },
      {
       "output_type": "stream",
       "stream": "stdout",
       "text": [
        "\n",
        "http://data.shareabouts.org/api/v2/planbox/datasets/Fazal-brampton-open-government/places"
       ]
      },
      {
       "output_type": "stream",
       "stream": "stdout",
       "text": [
        "\n",
        "http://data.shareabouts.org/api/v2/planbox/datasets/chado-testing123/places"
       ]
      },
      {
       "output_type": "stream",
       "stream": "stdout",
       "text": [
        "\n",
        "http://data.shareabouts.org/api/v2/ioby/datasets/memphis/places"
       ]
      },
      {
       "output_type": "stream",
       "stream": "stdout",
       "text": [
        "\n",
        "http://data.shareabouts.org/api/v2/planbox/datasets/gronskk-beph-2014/places"
       ]
      },
      {
       "output_type": "stream",
       "stream": "stdout",
       "text": [
        "\n",
        "http://data.shareabouts.org/api/v2/planbox/datasets/SRMC2-sr-test-greater-bpt-tod/places"
       ]
      },
      {
       "output_type": "stream",
       "stream": "stdout",
       "text": [
        "\n",
        "http://data.shareabouts.org/api/v2/planbox/datasets/Connectkendallsquare-connect-kendall-square-an-open-space-competition/places"
       ]
      },
      {
       "output_type": "stream",
       "stream": "stdout",
       "text": [
        "\n",
        "http://data.shareabouts.org/api/v2/chicagobikes/datasets/chicago-abandoned-bikes/places"
       ]
      },
      {
       "output_type": "stream",
       "stream": "stdout",
       "text": [
        "\n",
        "http://data.shareabouts.org/api/v2/admin/datasets/dev-chicago-abandoned-bikes/places"
       ]
      },
      {
       "output_type": "stream",
       "stream": "stdout",
       "text": [
        "\n",
        "http://data.shareabouts.org/api/v2/chicagobikes/datasets/chicago-bike-parking/places"
       ]
      },
      {
       "output_type": "stream",
       "stream": "stdout",
       "text": [
        "\n",
        "http://data.shareabouts.org/api/v2/planbox/datasets/CVilleQuiet-we-all-have-busy-lives-and-appreciate-that-moment-of-quiet-relaxation-share-your-hidden-quiet-contemplative-rela/places"
       ]
      },
      {
       "output_type": "stream",
       "stream": "stdout",
       "text": [
        "\n",
        "http://data.shareabouts.org/api/v2/planbox/datasets/dankray-gefuhle-stadt/places"
       ]
      },
      {
       "output_type": "stream",
       "stream": "stdout",
       "text": [
        "\n",
        "http://data.shareabouts.org/api/v2/jon/datasets/unlitterdelphia-dev/places"
       ]
      },
      {
       "output_type": "stream",
       "stream": "stdout",
       "text": [
        "\n",
        "http://data.shareabouts.org/api/v2/demo-user/datasets/demo-data/places"
       ]
      },
      {
       "output_type": "stream",
       "stream": "stdout",
       "text": [
        "\n",
        "http://data.shareabouts.org/api/v2/ecocamp/datasets/test/places"
       ]
      },
      {
       "output_type": "stream",
       "stream": "stdout",
       "text": [
        "\n",
        "http://data.shareabouts.org/api/v2/ecocamp/datasets/mahogany/places"
       ]
      },
      {
       "output_type": "stream",
       "stream": "stdout",
       "text": [
        "\n",
        "http://data.shareabouts.org/api/v2/ecocamp/datasets/fuzzy-wuzzy-brown/places"
       ]
      },
      {
       "output_type": "stream",
       "stream": "stdout",
       "text": [
        "\n",
        "http://data.shareabouts.org/api/v2/ecocamp/datasets/chestnut/places"
       ]
      },
      {
       "output_type": "stream",
       "stream": "stdout",
       "text": [
        "\n",
        "http://data.shareabouts.org/api/v2/ecocamp/datasets/red-orange/places"
       ]
      },
      {
       "output_type": "stream",
       "stream": "stdout",
       "text": [
        "\n",
        "http://data.shareabouts.org/api/v2/ecocamp/datasets/sunset-orange/places"
       ]
      },
      {
       "output_type": "stream",
       "stream": "stdout",
       "text": [
        "\n",
        "http://data.shareabouts.org/api/v2/ecocamp/datasets/bittersweet/places"
       ]
      },
      {
       "output_type": "stream",
       "stream": "stdout",
       "text": [
        "\n",
        "http://data.shareabouts.org/api/v2/ecocamp/datasets/melon/places"
       ]
      },
      {
       "output_type": "stream",
       "stream": "stdout",
       "text": [
        "\n",
        "http://data.shareabouts.org/api/v2/ecocamp/datasets/outrageous-orange/places"
       ]
      },
      {
       "output_type": "stream",
       "stream": "stdout",
       "text": [
        "\n",
        "http://data.shareabouts.org/api/v2/ecocamp/datasets/vivid-tangerine/places"
       ]
      },
      {
       "output_type": "stream",
       "stream": "stdout",
       "text": [
        "\n",
        "http://data.shareabouts.org/api/v2/ecocamp/datasets/burnt-sienna/places"
       ]
      },
      {
       "output_type": "stream",
       "stream": "stdout",
       "text": [
        "\n",
        "http://data.shareabouts.org/api/v2/ecocamp/datasets/brown/places"
       ]
      },
      {
       "output_type": "stream",
       "stream": "stdout",
       "text": [
        "\n",
        "http://data.shareabouts.org/api/v2/ecocamp/datasets/sepia/places"
       ]
      },
      {
       "output_type": "stream",
       "stream": "stdout",
       "text": [
        "\n",
        "http://data.shareabouts.org/api/v2/ecocamp/datasets/orange/places"
       ]
      },
      {
       "output_type": "stream",
       "stream": "stdout",
       "text": [
        "\n",
        "http://data.shareabouts.org/api/v2/ecocamp/datasets/burnt-orange/places"
       ]
      },
      {
       "output_type": "stream",
       "stream": "stdout",
       "text": [
        "\n",
        "http://data.shareabouts.org/api/v2/ecocamp/datasets/copper/places"
       ]
      },
      {
       "output_type": "stream",
       "stream": "stdout",
       "text": [
        "\n",
        "http://data.shareabouts.org/api/v2/ecocamp/datasets/mango-tango/places"
       ]
      },
      {
       "output_type": "stream",
       "stream": "stdout",
       "text": [
        "\n",
        "http://data.shareabouts.org/api/v2/ecocamp/datasets/atomic-tangerine/places"
       ]
      },
      {
       "output_type": "stream",
       "stream": "stdout",
       "text": [
        "\n",
        "http://data.shareabouts.org/api/v2/ecocamp/datasets/beaver/places"
       ]
      },
      {
       "output_type": "stream",
       "stream": "stdout",
       "text": [
        "\n",
        "http://data.shareabouts.org/api/v2/ecocamp/datasets/antique-brass/places"
       ]
      },
      {
       "output_type": "stream",
       "stream": "stdout",
       "text": [
        "\n",
        "http://data.shareabouts.org/api/v2/ecocamp/datasets/desert-sand/places"
       ]
      },
      {
       "output_type": "stream",
       "stream": "stdout",
       "text": [
        "\n",
        "http://data.shareabouts.org/api/v2/ecocamp/datasets/raw-sienna/places"
       ]
      },
      {
       "output_type": "stream",
       "stream": "stdout",
       "text": [
        "\n",
        "http://data.shareabouts.org/api/v2/ecocamp/datasets/tumbleweed/places"
       ]
      },
      {
       "output_type": "stream",
       "stream": "stdout",
       "text": [
        "\n",
        "http://data.shareabouts.org/api/v2/ecocamp/datasets/tan/places"
       ]
      },
      {
       "output_type": "stream",
       "stream": "stdout",
       "text": [
        "\n",
        "http://data.shareabouts.org/api/v2/ecocamp/datasets/peach/places"
       ]
      },
      {
       "output_type": "stream",
       "stream": "stdout",
       "text": [
        "\n",
        "http://data.shareabouts.org/api/v2/ecocamp/datasets/macaroni-and-cheese/places"
       ]
      },
      {
       "output_type": "stream",
       "stream": "stdout",
       "text": [
        "\n",
        "http://data.shareabouts.org/api/v2/ecocamp/datasets/apricot/places"
       ]
      },
      {
       "output_type": "stream",
       "stream": "stdout",
       "text": [
        "\n",
        "http://data.shareabouts.org/api/v2/ecocamp/datasets/neon-carrot/places"
       ]
      },
      {
       "output_type": "stream",
       "stream": "stdout",
       "text": [
        "\n",
        "http://data.shareabouts.org/api/v2/ecocamp/datasets/almond/places"
       ]
      },
      {
       "output_type": "stream",
       "stream": "stdout",
       "text": [
        "\n",
        "http://data.shareabouts.org/api/v2/ecocamp/datasets/yellow-orange/places"
       ]
      },
      {
       "output_type": "stream",
       "stream": "stdout",
       "text": [
        "\n",
        "http://data.shareabouts.org/api/v2/ecocamp/datasets/gold/places"
       ]
      },
      {
       "output_type": "stream",
       "stream": "stdout",
       "text": [
        "\n",
        "http://data.shareabouts.org/api/v2/ecocamp/datasets/shadow/places"
       ]
      },
      {
       "output_type": "stream",
       "stream": "stdout",
       "text": [
        "\n",
        "http://data.shareabouts.org/api/v2/ecocamp/datasets/banana-mania/places"
       ]
      },
      {
       "output_type": "stream",
       "stream": "stdout",
       "text": [
        "\n",
        "http://data.shareabouts.org/api/v2/ecocamp/datasets/sunglow/places"
       ]
      },
      {
       "output_type": "stream",
       "stream": "stdout",
       "text": [
        "\n",
        "http://data.shareabouts.org/api/v2/ecocamp/datasets/goldenrod/places"
       ]
      },
      {
       "output_type": "stream",
       "stream": "stdout",
       "text": [
        "\n",
        "http://data.shareabouts.org/api/v2/ecocamp/datasets/dandelion/places"
       ]
      },
      {
       "output_type": "stream",
       "stream": "stdout",
       "text": [
        "\n",
        "http://data.shareabouts.org/api/v2/ecocamp/datasets/yellow/places"
       ]
      },
      {
       "output_type": "stream",
       "stream": "stdout",
       "text": [
        "\n",
        "http://data.shareabouts.org/api/v2/ecocamp/datasets/green-yellow/places"
       ]
      },
      {
       "output_type": "stream",
       "stream": "stdout",
       "text": [
        "\n",
        "http://data.shareabouts.org/api/v2/ecocamp/datasets/spring-green/places"
       ]
      },
      {
       "output_type": "stream",
       "stream": "stdout",
       "text": [
        "\n",
        "http://data.shareabouts.org/api/v2/ecocamp/datasets/olive-green/places"
       ]
      },
      {
       "output_type": "stream",
       "stream": "stdout",
       "text": [
        "\n",
        "http://data.shareabouts.org/api/v2/ecocamp/datasets/laser-lemon/places"
       ]
      },
      {
       "output_type": "stream",
       "stream": "stdout",
       "text": [
        "\n",
        "http://data.shareabouts.org/api/v2/ecocamp/datasets/unmellow-yellow/places"
       ]
      },
      {
       "output_type": "stream",
       "stream": "stdout",
       "text": [
        "\n",
        "http://data.shareabouts.org/api/v2/ecocamp/datasets/canary/places"
       ]
      },
      {
       "output_type": "stream",
       "stream": "stdout",
       "text": [
        "\n",
        "http://data.shareabouts.org/api/v2/ecocamp/datasets/yellow-green/places"
       ]
      },
      {
       "output_type": "stream",
       "stream": "stdout",
       "text": [
        "\n",
        "http://data.shareabouts.org/api/v2/ecocamp/datasets/inch-worm/places"
       ]
      },
      {
       "output_type": "stream",
       "stream": "stdout",
       "text": [
        "\n",
        "http://data.shareabouts.org/api/v2/ecocamp/datasets/asparagus/places"
       ]
      },
      {
       "output_type": "stream",
       "stream": "stdout",
       "text": [
        "\n",
        "http://data.shareabouts.org/api/v2/ecocamp/datasets/granny-smith-apple/places"
       ]
      },
      {
       "output_type": "stream",
       "stream": "stdout",
       "text": [
        "\n",
        "http://data.shareabouts.org/api/v2/ecocamp/datasets/electric-lime/places"
       ]
      },
      {
       "output_type": "stream",
       "stream": "stdout",
       "text": [
        "\n",
        "http://data.shareabouts.org/api/v2/ecocamp/datasets/screamin-green/places"
       ]
      },
      {
       "output_type": "stream",
       "stream": "stdout",
       "text": [
        "\n",
        "http://data.shareabouts.org/api/v2/ecocamp/datasets/fern/places"
       ]
      },
      {
       "output_type": "stream",
       "stream": "stdout",
       "text": [
        "\n",
        "http://data.shareabouts.org/api/v2/ecocamp/datasets/forest-green/places"
       ]
      },
      {
       "output_type": "stream",
       "stream": "stdout",
       "text": [
        "\n",
        "http://data.shareabouts.org/api/v2/ecocamp/datasets/sea-green/places"
       ]
      },
      {
       "output_type": "stream",
       "stream": "stdout",
       "text": [
        "\n",
        "http://data.shareabouts.org/api/v2/ecocamp/datasets/green/places"
       ]
      },
      {
       "output_type": "stream",
       "stream": "stdout",
       "text": [
        "\n",
        "http://data.shareabouts.org/api/v2/ecocamp/datasets/mountain-meadow/places"
       ]
      },
      {
       "output_type": "stream",
       "stream": "stdout",
       "text": [
        "\n",
        "http://data.shareabouts.org/api/v2/ecocamp/datasets/shamrock/places"
       ]
      },
      {
       "output_type": "stream",
       "stream": "stdout",
       "text": [
        "\n",
        "http://data.shareabouts.org/api/v2/ecocamp/datasets/jungle-green/places"
       ]
      },
      {
       "output_type": "stream",
       "stream": "stdout",
       "text": [
        "\n",
        "http://data.shareabouts.org/api/v2/ecocamp/datasets/caribbean-green/places"
       ]
      },
      {
       "output_type": "stream",
       "stream": "stdout",
       "text": [
        "\n",
        "http://data.shareabouts.org/api/v2/ecocamp/datasets/tropical-rain-forest/places"
       ]
      },
      {
       "output_type": "stream",
       "stream": "stdout",
       "text": [
        "\n",
        "http://data.shareabouts.org/api/v2/ecocamp/datasets/pine-green/places"
       ]
      },
      {
       "output_type": "stream",
       "stream": "stdout",
       "text": [
        "\n",
        "http://data.shareabouts.org/api/v2/ecocamp/datasets/robin-egg-blue/places"
       ]
      },
      {
       "output_type": "stream",
       "stream": "stdout",
       "text": [
        "\n",
        "http://data.shareabouts.org/api/v2/ecocamp/datasets/aquamarine/places"
       ]
      },
      {
       "output_type": "stream",
       "stream": "stdout",
       "text": [
        "\n",
        "http://data.shareabouts.org/api/v2/ecocamp/datasets/turquoise-blue/places"
       ]
      },
      {
       "output_type": "stream",
       "stream": "stdout",
       "text": [
        "\n",
        "http://data.shareabouts.org/api/v2/ecocamp/datasets/sky-blue/places"
       ]
      },
      {
       "output_type": "stream",
       "stream": "stdout",
       "text": [
        "\n",
        "http://data.shareabouts.org/api/v2/ecocamp/datasets/outer-space/places"
       ]
      },
      {
       "output_type": "stream",
       "stream": "stdout",
       "text": [
        "\n",
        "http://data.shareabouts.org/api/v2/ecocamp/datasets/blue-green/places"
       ]
      },
      {
       "output_type": "stream",
       "stream": "stdout",
       "text": [
        "\n",
        "http://data.shareabouts.org/api/v2/ecocamp/datasets/pacific-blue/places"
       ]
      },
      {
       "output_type": "stream",
       "stream": "stdout",
       "text": [
        "\n",
        "http://data.shareabouts.org/api/v2/ecocamp/datasets/cerulean/places"
       ]
      },
      {
       "output_type": "stream",
       "stream": "stdout",
       "text": [
        "\n",
        "http://data.shareabouts.org/api/v2/ecocamp/datasets/cornflower/places"
       ]
      },
      {
       "output_type": "stream",
       "stream": "stdout",
       "text": [
        "\n",
        "http://data.shareabouts.org/api/v2/ecocamp/datasets/midnight-blue/places"
       ]
      },
      {
       "output_type": "stream",
       "stream": "stdout",
       "text": [
        "\n",
        "http://data.shareabouts.org/api/v2/ecocamp/datasets/navy-blue/places"
       ]
      },
      {
       "output_type": "stream",
       "stream": "stdout",
       "text": [
        "\n",
        "http://data.shareabouts.org/api/v2/ecocamp/datasets/denim/places"
       ]
      },
      {
       "output_type": "stream",
       "stream": "stdout",
       "text": [
        "\n",
        "http://data.shareabouts.org/api/v2/ecocamp/datasets/blue/places"
       ]
      },
      {
       "output_type": "stream",
       "stream": "stdout",
       "text": [
        "\n",
        "http://data.shareabouts.org/api/v2/ecocamp/datasets/periwinkle/places"
       ]
      },
      {
       "output_type": "stream",
       "stream": "stdout",
       "text": [
        "\n",
        "http://data.shareabouts.org/api/v2/ecocamp/datasets/cadet-blue/places"
       ]
      },
      {
       "output_type": "stream",
       "stream": "stdout",
       "text": [
        "\n",
        "http://data.shareabouts.org/api/v2/ecocamp/datasets/indigo/places"
       ]
      },
      {
       "output_type": "stream",
       "stream": "stdout",
       "text": [
        "\n",
        "http://data.shareabouts.org/api/v2/ecocamp/datasets/wild-blue-yonder/places"
       ]
      },
      {
       "output_type": "stream",
       "stream": "stdout",
       "text": [
        "\n",
        "http://data.shareabouts.org/api/v2/ecocamp/datasets/manatee/places"
       ]
      },
      {
       "output_type": "stream",
       "stream": "stdout",
       "text": [
        "\n",
        "http://data.shareabouts.org/api/v2/ecocamp/datasets/blue-bell/places"
       ]
      },
      {
       "output_type": "stream",
       "stream": "stdout",
       "text": [
        "\n",
        "http://data.shareabouts.org/api/v2/ecocamp/datasets/blue-violet/places"
       ]
      },
      {
       "output_type": "stream",
       "stream": "stdout",
       "text": [
        "\n",
        "http://data.shareabouts.org/api/v2/ecocamp/datasets/purple-heart/places"
       ]
      },
      {
       "output_type": "stream",
       "stream": "stdout",
       "text": [
        "\n",
        "http://data.shareabouts.org/api/v2/ecocamp/datasets/royal-purple/places"
       ]
      },
      {
       "output_type": "stream",
       "stream": "stdout",
       "text": [
        "\n",
        "http://data.shareabouts.org/api/v2/ecocamp/datasets/purple-mountains-majesty/places"
       ]
      },
      {
       "output_type": "stream",
       "stream": "stdout",
       "text": [
        "\n",
        "http://data.shareabouts.org/api/v2/ecocamp/datasets/violet/places"
       ]
      },
      {
       "output_type": "stream",
       "stream": "stdout",
       "text": [
        "\n",
        "http://data.shareabouts.org/api/v2/ecocamp/datasets/wisteria/places"
       ]
      },
      {
       "output_type": "stream",
       "stream": "stdout",
       "text": [
        "\n",
        "http://data.shareabouts.org/api/v2/ecocamp/datasets/vivid-violet/places"
       ]
      },
      {
       "output_type": "stream",
       "stream": "stdout",
       "text": [
        "\n",
        "http://data.shareabouts.org/api/v2/ecocamp/datasets/fuchsia/places"
       ]
      },
      {
       "output_type": "stream",
       "stream": "stdout",
       "text": [
        "\n",
        "http://data.shareabouts.org/api/v2/ecocamp/datasets/shocking-pink/places"
       ]
      },
      {
       "output_type": "stream",
       "stream": "stdout",
       "text": [
        "\n",
        "http://data.shareabouts.org/api/v2/ecocamp/datasets/pink-flamingo/places"
       ]
      },
      {
       "output_type": "stream",
       "stream": "stdout",
       "text": [
        "\n",
        "http://data.shareabouts.org/api/v2/ecocamp/datasets/plum/places"
       ]
      },
      {
       "output_type": "stream",
       "stream": "stdout",
       "text": [
        "\n",
        "http://data.shareabouts.org/api/v2/ecocamp/datasets/hot-magenta/places"
       ]
      },
      {
       "output_type": "stream",
       "stream": "stdout",
       "text": [
        "\n",
        "http://data.shareabouts.org/api/v2/ecocamp/datasets/purple-pizzazz/places"
       ]
      },
      {
       "output_type": "stream",
       "stream": "stdout",
       "text": [
        "\n",
        "http://data.shareabouts.org/api/v2/ecocamp/datasets/razzle-dazzle-rose/places"
       ]
      },
      {
       "output_type": "stream",
       "stream": "stdout",
       "text": [
        "\n",
        "http://data.shareabouts.org/api/v2/ecocamp/datasets/orchid/places"
       ]
      },
      {
       "output_type": "stream",
       "stream": "stdout",
       "text": [
        "\n",
        "http://data.shareabouts.org/api/v2/ecocamp/datasets/red-violet/places"
       ]
      },
      {
       "output_type": "stream",
       "stream": "stdout",
       "text": [
        "\n",
        "http://data.shareabouts.org/api/v2/ecocamp/datasets/eggplant/places"
       ]
      },
      {
       "output_type": "stream",
       "stream": "stdout",
       "text": [
        "\n",
        "http://data.shareabouts.org/api/v2/ecocamp/datasets/cerise/places"
       ]
      },
      {
       "output_type": "stream",
       "stream": "stdout",
       "text": [
        "\n",
        "http://data.shareabouts.org/api/v2/ecocamp/datasets/wild-strawberry/places"
       ]
      },
      {
       "output_type": "stream",
       "stream": "stdout",
       "text": [
        "\n",
        "http://data.shareabouts.org/api/v2/ecocamp/datasets/magenta/places"
       ]
      },
      {
       "output_type": "stream",
       "stream": "stdout",
       "text": [
        "\n",
        "http://data.shareabouts.org/api/v2/ecocamp/datasets/lavender/places"
       ]
      },
      {
       "output_type": "stream",
       "stream": "stdout",
       "text": [
        "\n",
        "http://data.shareabouts.org/api/v2/ecocamp/datasets/cotton-candy/places"
       ]
      },
      {
       "output_type": "stream",
       "stream": "stdout",
       "text": [
        "\n",
        "http://data.shareabouts.org/api/v2/ecocamp/datasets/violet-red/places"
       ]
      },
      {
       "output_type": "stream",
       "stream": "stdout",
       "text": [
        "\n",
        "http://data.shareabouts.org/api/v2/ecocamp/datasets/carnation-pink/places"
       ]
      },
      {
       "output_type": "stream",
       "stream": "stdout",
       "text": [
        "\n",
        "http://data.shareabouts.org/api/v2/ecocamp/datasets/razzmatazz/places"
       ]
      },
      {
       "output_type": "stream",
       "stream": "stdout",
       "text": [
        "\n",
        "http://data.shareabouts.org/api/v2/ecocamp/datasets/piggy-pink/places"
       ]
      },
      {
       "output_type": "stream",
       "stream": "stdout",
       "text": [
        "\n",
        "http://data.shareabouts.org/api/v2/ecocamp/datasets/jazzberry-jam/places"
       ]
      },
      {
       "output_type": "stream",
       "stream": "stdout",
       "text": [
        "\n",
        "http://data.shareabouts.org/api/v2/ecocamp/datasets/blush/places"
       ]
      },
      {
       "output_type": "stream",
       "stream": "stdout",
       "text": [
        "\n",
        "http://data.shareabouts.org/api/v2/ecocamp/datasets/tickle-me-pink/places"
       ]
      },
      {
       "output_type": "stream",
       "stream": "stdout",
       "text": [
        "\n",
        "http://data.shareabouts.org/api/v2/ecocamp/datasets/pink-sherbet/places"
       ]
      },
      {
       "output_type": "stream",
       "stream": "stdout",
       "text": [
        "\n",
        "http://data.shareabouts.org/api/v2/ecocamp/datasets/maroon/places"
       ]
      },
      {
       "output_type": "stream",
       "stream": "stdout",
       "text": [
        "\n",
        "http://data.shareabouts.org/api/v2/ecocamp/datasets/red/places"
       ]
      },
      {
       "output_type": "stream",
       "stream": "stdout",
       "text": [
        "\n",
        "http://data.shareabouts.org/api/v2/ecocamp/datasets/radical-red/places"
       ]
      },
      {
       "output_type": "stream",
       "stream": "stdout",
       "text": [
        "\n",
        "http://data.shareabouts.org/api/v2/ecocamp/datasets/mauvelous/places"
       ]
      },
      {
       "output_type": "stream",
       "stream": "stdout",
       "text": [
        "\n",
        "http://data.shareabouts.org/api/v2/ecocamp/datasets/wild-watermelon/places"
       ]
      },
      {
       "output_type": "stream",
       "stream": "stdout",
       "text": [
        "\n",
        "http://data.shareabouts.org/api/v2/ecocamp/datasets/scarlet/places"
       ]
      },
      {
       "output_type": "stream",
       "stream": "stdout",
       "text": [
        "\n",
        "http://data.shareabouts.org/api/v2/ecocamp/datasets/salmon/places"
       ]
      },
      {
       "output_type": "stream",
       "stream": "stdout",
       "text": [
        "\n",
        "http://data.shareabouts.org/api/v2/ecocamp/datasets/brick-red/places"
       ]
      },
      {
       "output_type": "stream",
       "stream": "stdout",
       "text": [
        "\n",
        "http://data.shareabouts.org/api/v2/ecocamp/datasets/white/places"
       ]
      },
      {
       "output_type": "stream",
       "stream": "stdout",
       "text": [
        "\n",
        "http://data.shareabouts.org/api/v2/ecocamp/datasets/timberwolf/places"
       ]
      },
      {
       "output_type": "stream",
       "stream": "stdout",
       "text": [
        "\n",
        "http://data.shareabouts.org/api/v2/ecocamp/datasets/silver/places"
       ]
      },
      {
       "output_type": "stream",
       "stream": "stdout",
       "text": [
        "\n",
        "http://data.shareabouts.org/api/v2/ecocamp/datasets/gray/places"
       ]
      },
      {
       "output_type": "stream",
       "stream": "stdout",
       "text": [
        "\n",
        "http://data.shareabouts.org/api/v2/ecocamp/datasets/black/places"
       ]
      },
      {
       "output_type": "stream",
       "stream": "stdout",
       "text": [
        "\n",
        "http://data.shareabouts.org/api/v2/planbox/datasets/scottbeslow-chicago-residential-flood-map/places"
       ]
      },
      {
       "output_type": "stream",
       "stream": "stdout",
       "text": [
        "\n",
        "http://data.shareabouts.org/api/v2/planbox/datasets/rdiana-solar-water-heater-information/places"
       ]
      },
      {
       "output_type": "stream",
       "stream": "stdout",
       "text": [
        "\n",
        "http://data.shareabouts.org/api/v2/planbox/datasets/dsiah-unlitterdelphia/places"
       ]
      },
      {
       "output_type": "stream",
       "stream": "stdout",
       "text": [
        "\n",
        "http://data.shareabouts.org/api/v2/planbox/datasets/nelsnelson-test/places"
       ]
      },
      {
       "output_type": "stream",
       "stream": "stdout",
       "text": [
        "\n",
        "http://data.shareabouts.org/api/v2/planbox/datasets/erinbarnes-jersey-city-bike-racks/places"
       ]
      },
      {
       "output_type": "stream",
       "stream": "stdout",
       "text": [
        "\n",
        "http://data.shareabouts.org/api/v2/planbox/datasets/mstegeman1-chicago-pedestrian-infrastructure/places"
       ]
      },
      {
       "output_type": "stream",
       "stream": "stdout",
       "text": [
        "\n",
        "http://data.shareabouts.org/api/v2/planbox/datasets/sophielubin-where-should-we-scoot-to-next/places"
       ]
      },
      {
       "output_type": "stream",
       "stream": "stdout",
       "text": [
        "\n",
        "http://data.shareabouts.org/api/v2/planbox/datasets/SustainableKeuka-sustainable-keuka-lake-project/places"
       ]
      },
      {
       "output_type": "stream",
       "stream": "stdout",
       "text": [
        "\n",
        "http://data.shareabouts.org/api/v2/planbox/datasets/pbfoodintern-lake-county-community-food-assessment/places"
       ]
      },
      {
       "output_type": "stream",
       "stream": "stdout",
       "text": [
        "\n",
        "http://data.shareabouts.org/api/v2/rdiana/datasets/rdiana-data/places"
       ]
      },
      {
       "output_type": "stream",
       "stream": "stdout",
       "text": [
        "\n",
        "http://data.shareabouts.org/api/v2/openplans/datasets/shareabouts-demo/places"
       ]
      },
      {
       "output_type": "stream",
       "stream": "stdout",
       "text": [
        "\n",
        "http://data.shareabouts.org/api/v2/planbox/datasets/CB11Queens-capital-budget/places"
       ]
      },
      {
       "output_type": "stream",
       "stream": "stdout",
       "text": [
        "\n",
        "http://data.shareabouts.org/api/v2/planbox/datasets/ScootNetworks-where-should-we-scoot-to-next/places"
       ]
      },
      {
       "output_type": "stream",
       "stream": "stdout",
       "text": [
        "\n",
        "http://data.shareabouts.org/api/v2/planbox/datasets/SFMTARailCapacityStrategy-sfmta-rail-capacity-strategy/places"
       ]
      },
      {
       "output_type": "stream",
       "stream": "stdout",
       "text": [
        "\n",
        "http://data.shareabouts.org/api/v2/planbox/datasets/Bellaka-city-of-troy-master-plan/places"
       ]
      },
      {
       "output_type": "stream",
       "stream": "stdout",
       "text": [
        "\n",
        "http://data.shareabouts.org/api/v2/planbox/datasets/user-testproject/places"
       ]
      },
      {
       "output_type": "stream",
       "stream": "stdout",
       "text": [
        "\n",
        "http://data.shareabouts.org/api/v2/planbox/datasets/gavinsullivan-codename-pbampj/places"
       ]
      },
      {
       "output_type": "stream",
       "stream": "stdout",
       "text": [
        "\n",
        "http://data.shareabouts.org/api/v2/planbox/datasets/graspmobile-pueblo-plug-in-to-nature/places"
       ]
      },
      {
       "output_type": "stream",
       "stream": "stdout",
       "text": [
        "\n",
        "http://data.shareabouts.org/api/v2/planbox/datasets/CoryColwell-calgary/places"
       ]
      },
      {
       "output_type": "stream",
       "stream": "stdout",
       "text": [
        "\n",
        "http://data.shareabouts.org/api/v2/planbox/datasets/rukku-whatsup/places"
       ]
      },
      {
       "output_type": "stream",
       "stream": "stdout",
       "text": [
        "\n",
        "http://data.shareabouts.org/api/v2/planbox/datasets/simonlaird-city-of-sydney-urban-skate-plan/places"
       ]
      },
      {
       "output_type": "stream",
       "stream": "stdout",
       "text": [
        "\n",
        "http://data.shareabouts.org/api/v2/planbox/datasets/fedex1-air-pollution-watch/places"
       ]
      },
      {
       "output_type": "stream",
       "stream": "stdout",
       "text": [
        "\n",
        "http://data.shareabouts.org/api/v2/planbox/datasets/AlongThePike-arlington-county-bike-project-update/places"
       ]
      },
      {
       "output_type": "stream",
       "stream": "stdout",
       "text": [
        "\n",
        "http://data.shareabouts.org/api/v2/planbox/datasets/robi-y-anyway/places"
       ]
      },
      {
       "output_type": "stream",
       "stream": "stdout",
       "text": [
        "\n",
        "http://data.shareabouts.org/api/v2/planbox/datasets/kaeru-better-pedestrian-facilities-for-subang-jaya/places"
       ]
      },
      {
       "output_type": "stream",
       "stream": "stdout",
       "text": [
        "\n",
        "http://data.shareabouts.org/api/v2/interfacestudio/datasets/macon-action-plan/places"
       ]
      },
      {
       "output_type": "stream",
       "stream": "stdout",
       "text": [
        "\n",
        "http://data.shareabouts.org/api/v2/planbox/datasets/test888-test/places"
       ]
      },
      {
       "output_type": "stream",
       "stream": "stdout",
       "text": [
        "\n",
        "http://data.shareabouts.org/api/v2/planbox/datasets/mcloyd-ma-food-systems/places"
       ]
      },
      {
       "output_type": "stream",
       "stream": "stdout",
       "text": [
        "\n",
        "http://data.shareabouts.org/api/v2/planbox/datasets/kensnyder105-night-time-frisbee-game/places"
       ]
      },
      {
       "output_type": "stream",
       "stream": "stdout",
       "text": [
        "\n",
        "http://data.shareabouts.org/api/v2/planbox/datasets/jenifferhomes-skinue/places"
       ]
      },
      {
       "output_type": "stream",
       "stream": "stdout",
       "text": [
        "\n",
        "http://data.shareabouts.org/api/v2/planbox/datasets/cmadore-lake-massapoag-bicycling-network-plan/places"
       ]
      },
      {
       "output_type": "stream",
       "stream": "stdout",
       "text": [
        "\n",
        "http://data.shareabouts.org/api/v2/interfacestudio/datasets/macon-action-plan-dev/places"
       ]
      },
      {
       "output_type": "stream",
       "stream": "stdout",
       "text": [
        "\n",
        "http://data.shareabouts.org/api/v2/planbox/datasets/hstucker-massachusetts-food-system-plan/places"
       ]
      },
      {
       "output_type": "stream",
       "stream": "stdout",
       "text": [
        "\n",
        "http://data.shareabouts.org/api/v2/planbox/datasets/alexsweet-mountain-view-bike-plan-update/places"
       ]
      },
      {
       "output_type": "stream",
       "stream": "stdout",
       "text": [
        "\n",
        "http://data.shareabouts.org/api/v2/planbox/datasets/GetActiveGNV-tell-us-where-you-need-bike-parking/places"
       ]
      },
      {
       "output_type": "stream",
       "stream": "stdout",
       "text": [
        "\n",
        "http://data.shareabouts.org/api/v2/planbox/datasets/cressica-gulangyu/places"
       ]
      },
      {
       "output_type": "stream",
       "stream": "stdout",
       "text": [
        "\n",
        "http://data.shareabouts.org/api/v2/planbox/datasets/peter_thompson-connected-california/places"
       ]
      },
      {
       "output_type": "stream",
       "stream": "stdout",
       "text": [
        "\n",
        "http://data.shareabouts.org/api/v2/planbox/datasets/UPE-mapas-taller/places"
       ]
      },
      {
       "output_type": "stream",
       "stream": "stdout",
       "text": [
        "\n",
        "http://data.shareabouts.org/api/v2/planbox/datasets/eugenebata-bard-transportation/places"
       ]
      },
      {
       "output_type": "stream",
       "stream": "stdout",
       "text": [
        "\n",
        "http://data.shareabouts.org/api/v2/admin/datasets/dev-chicago-bike-parking/places"
       ]
      },
      {
       "output_type": "stream",
       "stream": "stdout",
       "text": [
        "\n",
        "http://data.shareabouts.org/api/v2/pbnyc/datasets/pbnyc-2014/places"
       ]
      },
      {
       "output_type": "stream",
       "stream": "stdout",
       "text": [
        "\n",
        "http://data.shareabouts.org/api/v2/planbox/datasets/amorganroth0425-wisconsin-statewide-bicycle-infrastructure-plan/places"
       ]
      },
      {
       "output_type": "stream",
       "stream": "stdout",
       "text": [
        "\n",
        "http://data.shareabouts.org/api/v2/planbox/datasets/mvandenhoek-limbach-park/places"
       ]
      },
      {
       "output_type": "stream",
       "stream": "stdout",
       "text": [
        "\n",
        "http://data.shareabouts.org/api/v2/planbox/datasets/RobinAbad-san-francisco-pavement-to-parks-projects/places"
       ]
      },
      {
       "output_type": "stream",
       "stream": "stdout",
       "text": [
        "\n",
        "http://data.shareabouts.org/api/v2/planbox/datasets/goodwind-test/places"
       ]
      },
      {
       "output_type": "stream",
       "stream": "stdout",
       "text": [
        "\n",
        "http://data.shareabouts.org/api/v2/planbox/datasets/gatoona-bike-metro/places"
       ]
      },
      {
       "output_type": "stream",
       "stream": "stdout",
       "text": [
        "\n",
        "515"
       ]
      },
      {
       "output_type": "stream",
       "stream": "stdout",
       "text": [
        "\n",
        "Wrote file to C:\\Users\\Aaron\\Documents\\IPython Notebooks\\exports\\all_datasets.csv\n"
       ]
      }
     ],
     "prompt_number": 3
    },
    {
     "cell_type": "code",
     "collapsed": false,
     "input": [],
     "language": "python",
     "metadata": {},
     "outputs": []
    }
   ],
   "metadata": {}
  }
 ]
}